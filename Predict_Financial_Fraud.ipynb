{
  "nbformat": 4,
  "nbformat_minor": 0,
  "metadata": {
    "colab": {
      "name": "Predict_Financial_Fraud.ipynb",
      "provenance": [],
      "collapsed_sections": [],
      "toc_visible": true,
      "authorship_tag": "ABX9TyODoJ7q5QLWdmjBU0p8Vyc/",
      "include_colab_link": true
    },
    "kernelspec": {
      "name": "python3",
      "display_name": "Python 3"
    }
  },
  "cells": [
    {
      "cell_type": "markdown",
      "metadata": {
        "id": "view-in-github",
        "colab_type": "text"
      },
      "source": [
        "<a href=\"https://colab.research.google.com/github/victormazevedo/predict-financial-fraud/blob/master/Predict_Financial_Fraud.ipynb\" target=\"_parent\"><img src=\"https://colab.research.google.com/assets/colab-badge.svg\" alt=\"Open In Colab\"/></a>"
      ]
    },
    {
      "cell_type": "markdown",
      "metadata": {
        "id": "I_dn8yIZh6Gg",
        "colab_type": "text"
      },
      "source": [
        "# Predict Financial Fraud with Data Science Analysis\n",
        "\n",
        "![alt text](http://www.fatecrp.edu.br/wp-content/themes/fatecrp/dist/img/logo.png)\n",
        "\n",
        "This is a final-project destinated to Analise e Densenvolvimento de Sistema's course of Fatec Ribeirão Preto\n",
        "\n",
        "O seguinte projeto é destinado ao trabalho de conclusão de curso do curso de Análise e Desenvolvimento de Sistemas da Fatec Ribeirão Preto. O tema deste projeto é Detecção Automática de Fraude Financeira utilizando Data Science.\n",
        "\n",
        "Para isto, utilizarei um [dataset](https://www.kaggle.com/ntnu-testimon/paysim1) presente no site [Kaggle](https://kaggle.com).\n",
        "Este dataset simula transações realizadas via mobile com base em uma amostra de um mês inteiro, disponibilizado por um grande serviço de banco digital da África. Este mesmo serviço também existe em 14 países.\n",
        "O dataset disponibilizado no Kaggle representa 1/4 do dataset original."
      ]
    },
    {
      "cell_type": "markdown",
      "metadata": {
        "id": "kDX-f1fghu6L",
        "colab_type": "text"
      },
      "source": [
        "# Breve descrição do Dataset\n",
        "\n",
        "* step - mapeia a unidade de tempo no mundo real.\n",
        "\n",
        "* type - CASH-IN, CASH-OUT, DEBIT, PAYMENT and TRANSFER.\n",
        "\n",
        "* amount - total da transação na moeda local.\n",
        "\n",
        "* nameOrig - cliente que começou a transação.\n",
        "\n",
        "* oldbalanceOrg - saldo inicial antes da transação.\n",
        "\n",
        "* newbalanceOrig - saldo final depois da transação.\n",
        "\n",
        "* nameDest - cliente que recebeu a transação (destinatário/favorecido).\n",
        "\n",
        "* oldbalanceDest - initial balance recipient before the transaction. Note that there is not information for customers that start with M (Merchants).\n",
        "\n",
        "* newbalanceDest - new balance recipient after the transaction. Note that there is not information for customers that start with M (Merchants).\n",
        "\n",
        "* isFraud - This is the transactions made by the fraudulent agents inside the simulation. In this specific dataset the fraudulent behavior of the agents aims to profit by taking control or customers accounts and try to empty the funds by transferring to another account and then cashing out of the system.\n",
        "\n",
        "* isFlaggedFraud - The business model aims to control massive transfers from one account to another and flags illegal attempts. An illegal attempt in this dataset is an attempt to transfer more than 200.000 in a single transaction."
      ]
    },
    {
      "cell_type": "markdown",
      "metadata": {
        "id": "fiY1HiHJ18q-",
        "colab_type": "text"
      },
      "source": [
        "## Import do dataset\n",
        "\n"
      ]
    },
    {
      "cell_type": "code",
      "metadata": {
        "id": "bjsp5KwJiwS8",
        "colab_type": "code",
        "colab": {}
      },
      "source": [
        "#importando algumas libs\n",
        "import pandas as pd\n",
        "import numpy as np\n",
        "import matplotlib.pyplot as plt\n",
        "%matplotlib inline\n",
        "import matplotlib.cm as cm\n",
        "from random import seed,sample\n",
        "from sklearn.model_selection import train_test_split\n",
        "from sklearn.preprocessing import StandardScaler\n",
        "from sklearn.neural_network import MLPClassifier\n",
        "from sklearn.metrics import classification_report,confusion_matrix,accuracy_score, roc_curve, auc,\\\n",
        "precision_score\n",
        "from sklearn.ensemble import RandomForestClassifier\n",
        "from xgboost.sklearn import XGBClassifier"
      ],
      "execution_count": 0,
      "outputs": []
    },
    {
      "cell_type": "code",
      "metadata": {
        "id": "cn0P__dQ4zYH",
        "colab_type": "code",
        "outputId": "f2e8b1de-f2e8-4912-9114-18c2ca67bf02",
        "colab": {
          "base_uri": "https://localhost:8080/",
          "height": 424
        }
      },
      "source": [
        "#importando dados do DropBox\n",
        "pd.set_option('display.max_columns', 20)\n",
        "!wget 'https://www.dropbox.com/s/2f2ex1g5gvug9rg/PS_20174392719_1491204439457_log.csv?dl=0'\n",
        "df = pd.read_csv('PS_20174392719_1491204439457_log.csv?dl=0')"
      ],
      "execution_count": 0,
      "outputs": [
        {
          "output_type": "stream",
          "text": [
            "--2020-05-16 18:42:47--  https://www.dropbox.com/s/2f2ex1g5gvug9rg/PS_20174392719_1491204439457_log.csv?dl=0\n",
            "Resolving www.dropbox.com (www.dropbox.com)... 162.125.3.1, 2620:100:6016:1::a27d:101\n",
            "Connecting to www.dropbox.com (www.dropbox.com)|162.125.3.1|:443... connected.\n",
            "HTTP request sent, awaiting response... 301 Moved Permanently\n",
            "Location: /s/raw/2f2ex1g5gvug9rg/PS_20174392719_1491204439457_log.csv [following]\n",
            "--2020-05-16 18:42:48--  https://www.dropbox.com/s/raw/2f2ex1g5gvug9rg/PS_20174392719_1491204439457_log.csv\n",
            "Reusing existing connection to www.dropbox.com:443.\n",
            "HTTP request sent, awaiting response... 302 Found\n",
            "Location: https://uc36fe18b3655d7839d2530e5b4c.dl.dropboxusercontent.com/cd/0/inline/A33aOx7zmqYQs7ic7ufBRdXNsqrf8T2a8XUjHi1FEGpWLSW7GIoJDYCpiLJewcecOHsBXEM2xNHmZ92dVDGktEXw3jPMUJMYlC_9JzmSpluEKO1RJu07n5YvN5B1TOG63gw/file# [following]\n",
            "--2020-05-16 18:42:48--  https://uc36fe18b3655d7839d2530e5b4c.dl.dropboxusercontent.com/cd/0/inline/A33aOx7zmqYQs7ic7ufBRdXNsqrf8T2a8XUjHi1FEGpWLSW7GIoJDYCpiLJewcecOHsBXEM2xNHmZ92dVDGktEXw3jPMUJMYlC_9JzmSpluEKO1RJu07n5YvN5B1TOG63gw/file\n",
            "Resolving uc36fe18b3655d7839d2530e5b4c.dl.dropboxusercontent.com (uc36fe18b3655d7839d2530e5b4c.dl.dropboxusercontent.com)... 162.125.3.6, 2620:100:6018:6::a27d:306\n",
            "Connecting to uc36fe18b3655d7839d2530e5b4c.dl.dropboxusercontent.com (uc36fe18b3655d7839d2530e5b4c.dl.dropboxusercontent.com)|162.125.3.6|:443... connected.\n",
            "HTTP request sent, awaiting response... 200 OK\n",
            "Length: 493534783 (471M) [text/plain]\n",
            "Saving to: ‘PS_20174392719_1491204439457_log.csv?dl=0.2’\n",
            "\n",
            "PS_20174392719_1491 100%[===================>] 470.67M  66.9MB/s    in 7.2s    \n",
            "\n",
            "2020-05-16 18:42:56 (65.2 MB/s) - ‘PS_20174392719_1491204439457_log.csv?dl=0.2’ saved [493534783/493534783]\n",
            "\n"
          ],
          "name": "stdout"
        }
      ]
    },
    {
      "cell_type": "markdown",
      "metadata": {
        "id": "LPPo361-2SNL",
        "colab_type": "text"
      },
      "source": [
        "# Resumo dos dados"
      ]
    },
    {
      "cell_type": "code",
      "metadata": {
        "id": "kS01OSJ36B3S",
        "colab_type": "code",
        "outputId": "e98b9314-2703-44cc-a833-5fcc5571fa59",
        "colab": {
          "base_uri": "https://localhost:8080/",
          "height": 363
        }
      },
      "source": [
        "  df.head(10)"
      ],
      "execution_count": 0,
      "outputs": [
        {
          "output_type": "execute_result",
          "data": {
            "text/html": [
              "<div>\n",
              "<style scoped>\n",
              "    .dataframe tbody tr th:only-of-type {\n",
              "        vertical-align: middle;\n",
              "    }\n",
              "\n",
              "    .dataframe tbody tr th {\n",
              "        vertical-align: top;\n",
              "    }\n",
              "\n",
              "    .dataframe thead th {\n",
              "        text-align: right;\n",
              "    }\n",
              "</style>\n",
              "<table border=\"1\" class=\"dataframe\">\n",
              "  <thead>\n",
              "    <tr style=\"text-align: right;\">\n",
              "      <th></th>\n",
              "      <th>step</th>\n",
              "      <th>type</th>\n",
              "      <th>amount</th>\n",
              "      <th>nameOrig</th>\n",
              "      <th>oldbalanceOrg</th>\n",
              "      <th>newbalanceOrig</th>\n",
              "      <th>nameDest</th>\n",
              "      <th>oldbalanceDest</th>\n",
              "      <th>newbalanceDest</th>\n",
              "      <th>isFraud</th>\n",
              "      <th>isFlaggedFraud</th>\n",
              "    </tr>\n",
              "  </thead>\n",
              "  <tbody>\n",
              "    <tr>\n",
              "      <th>0</th>\n",
              "      <td>1</td>\n",
              "      <td>PAYMENT</td>\n",
              "      <td>9839.64</td>\n",
              "      <td>C1231006815</td>\n",
              "      <td>170136.00</td>\n",
              "      <td>160296.36</td>\n",
              "      <td>M1979787155</td>\n",
              "      <td>0.0</td>\n",
              "      <td>0.00</td>\n",
              "      <td>0</td>\n",
              "      <td>0</td>\n",
              "    </tr>\n",
              "    <tr>\n",
              "      <th>1</th>\n",
              "      <td>1</td>\n",
              "      <td>PAYMENT</td>\n",
              "      <td>1864.28</td>\n",
              "      <td>C1666544295</td>\n",
              "      <td>21249.00</td>\n",
              "      <td>19384.72</td>\n",
              "      <td>M2044282225</td>\n",
              "      <td>0.0</td>\n",
              "      <td>0.00</td>\n",
              "      <td>0</td>\n",
              "      <td>0</td>\n",
              "    </tr>\n",
              "    <tr>\n",
              "      <th>2</th>\n",
              "      <td>1</td>\n",
              "      <td>TRANSFER</td>\n",
              "      <td>181.00</td>\n",
              "      <td>C1305486145</td>\n",
              "      <td>181.00</td>\n",
              "      <td>0.00</td>\n",
              "      <td>C553264065</td>\n",
              "      <td>0.0</td>\n",
              "      <td>0.00</td>\n",
              "      <td>1</td>\n",
              "      <td>0</td>\n",
              "    </tr>\n",
              "    <tr>\n",
              "      <th>3</th>\n",
              "      <td>1</td>\n",
              "      <td>CASH_OUT</td>\n",
              "      <td>181.00</td>\n",
              "      <td>C840083671</td>\n",
              "      <td>181.00</td>\n",
              "      <td>0.00</td>\n",
              "      <td>C38997010</td>\n",
              "      <td>21182.0</td>\n",
              "      <td>0.00</td>\n",
              "      <td>1</td>\n",
              "      <td>0</td>\n",
              "    </tr>\n",
              "    <tr>\n",
              "      <th>4</th>\n",
              "      <td>1</td>\n",
              "      <td>PAYMENT</td>\n",
              "      <td>11668.14</td>\n",
              "      <td>C2048537720</td>\n",
              "      <td>41554.00</td>\n",
              "      <td>29885.86</td>\n",
              "      <td>M1230701703</td>\n",
              "      <td>0.0</td>\n",
              "      <td>0.00</td>\n",
              "      <td>0</td>\n",
              "      <td>0</td>\n",
              "    </tr>\n",
              "    <tr>\n",
              "      <th>5</th>\n",
              "      <td>1</td>\n",
              "      <td>PAYMENT</td>\n",
              "      <td>7817.71</td>\n",
              "      <td>C90045638</td>\n",
              "      <td>53860.00</td>\n",
              "      <td>46042.29</td>\n",
              "      <td>M573487274</td>\n",
              "      <td>0.0</td>\n",
              "      <td>0.00</td>\n",
              "      <td>0</td>\n",
              "      <td>0</td>\n",
              "    </tr>\n",
              "    <tr>\n",
              "      <th>6</th>\n",
              "      <td>1</td>\n",
              "      <td>PAYMENT</td>\n",
              "      <td>7107.77</td>\n",
              "      <td>C154988899</td>\n",
              "      <td>183195.00</td>\n",
              "      <td>176087.23</td>\n",
              "      <td>M408069119</td>\n",
              "      <td>0.0</td>\n",
              "      <td>0.00</td>\n",
              "      <td>0</td>\n",
              "      <td>0</td>\n",
              "    </tr>\n",
              "    <tr>\n",
              "      <th>7</th>\n",
              "      <td>1</td>\n",
              "      <td>PAYMENT</td>\n",
              "      <td>7861.64</td>\n",
              "      <td>C1912850431</td>\n",
              "      <td>176087.23</td>\n",
              "      <td>168225.59</td>\n",
              "      <td>M633326333</td>\n",
              "      <td>0.0</td>\n",
              "      <td>0.00</td>\n",
              "      <td>0</td>\n",
              "      <td>0</td>\n",
              "    </tr>\n",
              "    <tr>\n",
              "      <th>8</th>\n",
              "      <td>1</td>\n",
              "      <td>PAYMENT</td>\n",
              "      <td>4024.36</td>\n",
              "      <td>C1265012928</td>\n",
              "      <td>2671.00</td>\n",
              "      <td>0.00</td>\n",
              "      <td>M1176932104</td>\n",
              "      <td>0.0</td>\n",
              "      <td>0.00</td>\n",
              "      <td>0</td>\n",
              "      <td>0</td>\n",
              "    </tr>\n",
              "    <tr>\n",
              "      <th>9</th>\n",
              "      <td>1</td>\n",
              "      <td>DEBIT</td>\n",
              "      <td>5337.77</td>\n",
              "      <td>C712410124</td>\n",
              "      <td>41720.00</td>\n",
              "      <td>36382.23</td>\n",
              "      <td>C195600860</td>\n",
              "      <td>41898.0</td>\n",
              "      <td>40348.79</td>\n",
              "      <td>0</td>\n",
              "      <td>0</td>\n",
              "    </tr>\n",
              "  </tbody>\n",
              "</table>\n",
              "</div>"
            ],
            "text/plain": [
              "   step      type    amount     nameOrig  oldbalanceOrg  newbalanceOrig  \\\n",
              "0     1   PAYMENT   9839.64  C1231006815      170136.00       160296.36   \n",
              "1     1   PAYMENT   1864.28  C1666544295       21249.00        19384.72   \n",
              "2     1  TRANSFER    181.00  C1305486145         181.00            0.00   \n",
              "3     1  CASH_OUT    181.00   C840083671         181.00            0.00   \n",
              "4     1   PAYMENT  11668.14  C2048537720       41554.00        29885.86   \n",
              "5     1   PAYMENT   7817.71    C90045638       53860.00        46042.29   \n",
              "6     1   PAYMENT   7107.77   C154988899      183195.00       176087.23   \n",
              "7     1   PAYMENT   7861.64  C1912850431      176087.23       168225.59   \n",
              "8     1   PAYMENT   4024.36  C1265012928        2671.00            0.00   \n",
              "9     1     DEBIT   5337.77   C712410124       41720.00        36382.23   \n",
              "\n",
              "      nameDest  oldbalanceDest  newbalanceDest  isFraud  isFlaggedFraud  \n",
              "0  M1979787155             0.0            0.00        0               0  \n",
              "1  M2044282225             0.0            0.00        0               0  \n",
              "2   C553264065             0.0            0.00        1               0  \n",
              "3    C38997010         21182.0            0.00        1               0  \n",
              "4  M1230701703             0.0            0.00        0               0  \n",
              "5   M573487274             0.0            0.00        0               0  \n",
              "6   M408069119             0.0            0.00        0               0  \n",
              "7   M633326333             0.0            0.00        0               0  \n",
              "8  M1176932104             0.0            0.00        0               0  \n",
              "9   C195600860         41898.0        40348.79        0               0  "
            ]
          },
          "metadata": {
            "tags": []
          },
          "execution_count": 109
        }
      ]
    },
    {
      "cell_type": "code",
      "metadata": {
        "id": "yQTcwRyei_bt",
        "colab_type": "code",
        "outputId": "5505c2d7-4771-4616-9581-bbe0cd4cd988",
        "colab": {
          "base_uri": "https://localhost:8080/",
          "height": 300
        }
      },
      "source": [
        "df.describe()"
      ],
      "execution_count": 0,
      "outputs": [
        {
          "output_type": "execute_result",
          "data": {
            "text/html": [
              "<div>\n",
              "<style scoped>\n",
              "    .dataframe tbody tr th:only-of-type {\n",
              "        vertical-align: middle;\n",
              "    }\n",
              "\n",
              "    .dataframe tbody tr th {\n",
              "        vertical-align: top;\n",
              "    }\n",
              "\n",
              "    .dataframe thead th {\n",
              "        text-align: right;\n",
              "    }\n",
              "</style>\n",
              "<table border=\"1\" class=\"dataframe\">\n",
              "  <thead>\n",
              "    <tr style=\"text-align: right;\">\n",
              "      <th></th>\n",
              "      <th>step</th>\n",
              "      <th>amount</th>\n",
              "      <th>oldbalanceOrg</th>\n",
              "      <th>newbalanceOrig</th>\n",
              "      <th>oldbalanceDest</th>\n",
              "      <th>newbalanceDest</th>\n",
              "      <th>isFraud</th>\n",
              "      <th>isFlaggedFraud</th>\n",
              "    </tr>\n",
              "  </thead>\n",
              "  <tbody>\n",
              "    <tr>\n",
              "      <th>count</th>\n",
              "      <td>6.362620e+06</td>\n",
              "      <td>6.362620e+06</td>\n",
              "      <td>6.362620e+06</td>\n",
              "      <td>6.362620e+06</td>\n",
              "      <td>6.362620e+06</td>\n",
              "      <td>6.362620e+06</td>\n",
              "      <td>6.362620e+06</td>\n",
              "      <td>6.362620e+06</td>\n",
              "    </tr>\n",
              "    <tr>\n",
              "      <th>mean</th>\n",
              "      <td>2.433972e+02</td>\n",
              "      <td>1.798619e+05</td>\n",
              "      <td>8.338831e+05</td>\n",
              "      <td>8.551137e+05</td>\n",
              "      <td>1.100702e+06</td>\n",
              "      <td>1.224996e+06</td>\n",
              "      <td>1.290820e-03</td>\n",
              "      <td>2.514687e-06</td>\n",
              "    </tr>\n",
              "    <tr>\n",
              "      <th>std</th>\n",
              "      <td>1.423320e+02</td>\n",
              "      <td>6.038582e+05</td>\n",
              "      <td>2.888243e+06</td>\n",
              "      <td>2.924049e+06</td>\n",
              "      <td>3.399180e+06</td>\n",
              "      <td>3.674129e+06</td>\n",
              "      <td>3.590480e-02</td>\n",
              "      <td>1.585775e-03</td>\n",
              "    </tr>\n",
              "    <tr>\n",
              "      <th>min</th>\n",
              "      <td>1.000000e+00</td>\n",
              "      <td>0.000000e+00</td>\n",
              "      <td>0.000000e+00</td>\n",
              "      <td>0.000000e+00</td>\n",
              "      <td>0.000000e+00</td>\n",
              "      <td>0.000000e+00</td>\n",
              "      <td>0.000000e+00</td>\n",
              "      <td>0.000000e+00</td>\n",
              "    </tr>\n",
              "    <tr>\n",
              "      <th>25%</th>\n",
              "      <td>1.560000e+02</td>\n",
              "      <td>1.338957e+04</td>\n",
              "      <td>0.000000e+00</td>\n",
              "      <td>0.000000e+00</td>\n",
              "      <td>0.000000e+00</td>\n",
              "      <td>0.000000e+00</td>\n",
              "      <td>0.000000e+00</td>\n",
              "      <td>0.000000e+00</td>\n",
              "    </tr>\n",
              "    <tr>\n",
              "      <th>50%</th>\n",
              "      <td>2.390000e+02</td>\n",
              "      <td>7.487194e+04</td>\n",
              "      <td>1.420800e+04</td>\n",
              "      <td>0.000000e+00</td>\n",
              "      <td>1.327057e+05</td>\n",
              "      <td>2.146614e+05</td>\n",
              "      <td>0.000000e+00</td>\n",
              "      <td>0.000000e+00</td>\n",
              "    </tr>\n",
              "    <tr>\n",
              "      <th>75%</th>\n",
              "      <td>3.350000e+02</td>\n",
              "      <td>2.087215e+05</td>\n",
              "      <td>1.073152e+05</td>\n",
              "      <td>1.442584e+05</td>\n",
              "      <td>9.430367e+05</td>\n",
              "      <td>1.111909e+06</td>\n",
              "      <td>0.000000e+00</td>\n",
              "      <td>0.000000e+00</td>\n",
              "    </tr>\n",
              "    <tr>\n",
              "      <th>max</th>\n",
              "      <td>7.430000e+02</td>\n",
              "      <td>9.244552e+07</td>\n",
              "      <td>5.958504e+07</td>\n",
              "      <td>4.958504e+07</td>\n",
              "      <td>3.560159e+08</td>\n",
              "      <td>3.561793e+08</td>\n",
              "      <td>1.000000e+00</td>\n",
              "      <td>1.000000e+00</td>\n",
              "    </tr>\n",
              "  </tbody>\n",
              "</table>\n",
              "</div>"
            ],
            "text/plain": [
              "               step        amount  oldbalanceOrg  newbalanceOrig  \\\n",
              "count  6.362620e+06  6.362620e+06   6.362620e+06    6.362620e+06   \n",
              "mean   2.433972e+02  1.798619e+05   8.338831e+05    8.551137e+05   \n",
              "std    1.423320e+02  6.038582e+05   2.888243e+06    2.924049e+06   \n",
              "min    1.000000e+00  0.000000e+00   0.000000e+00    0.000000e+00   \n",
              "25%    1.560000e+02  1.338957e+04   0.000000e+00    0.000000e+00   \n",
              "50%    2.390000e+02  7.487194e+04   1.420800e+04    0.000000e+00   \n",
              "75%    3.350000e+02  2.087215e+05   1.073152e+05    1.442584e+05   \n",
              "max    7.430000e+02  9.244552e+07   5.958504e+07    4.958504e+07   \n",
              "\n",
              "       oldbalanceDest  newbalanceDest       isFraud  isFlaggedFraud  \n",
              "count    6.362620e+06    6.362620e+06  6.362620e+06    6.362620e+06  \n",
              "mean     1.100702e+06    1.224996e+06  1.290820e-03    2.514687e-06  \n",
              "std      3.399180e+06    3.674129e+06  3.590480e-02    1.585775e-03  \n",
              "min      0.000000e+00    0.000000e+00  0.000000e+00    0.000000e+00  \n",
              "25%      0.000000e+00    0.000000e+00  0.000000e+00    0.000000e+00  \n",
              "50%      1.327057e+05    2.146614e+05  0.000000e+00    0.000000e+00  \n",
              "75%      9.430367e+05    1.111909e+06  0.000000e+00    0.000000e+00  \n",
              "max      3.560159e+08    3.561793e+08  1.000000e+00    1.000000e+00  "
            ]
          },
          "metadata": {
            "tags": []
          },
          "execution_count": 110
        }
      ]
    },
    {
      "cell_type": "code",
      "metadata": {
        "id": "iqjiqYXEjcWj",
        "colab_type": "code",
        "outputId": "91a0a92c-2b95-4fa0-a289-93638162d7ee",
        "colab": {
          "base_uri": "https://localhost:8080/",
          "height": 36
        }
      },
      "source": [
        "df.shape"
      ],
      "execution_count": 0,
      "outputs": [
        {
          "output_type": "execute_result",
          "data": {
            "text/plain": [
              "(6362620, 11)"
            ]
          },
          "metadata": {
            "tags": []
          },
          "execution_count": 111
        }
      ]
    },
    {
      "cell_type": "markdown",
      "metadata": {
        "id": "P6oYlUi-3JPy",
        "colab_type": "text"
      },
      "source": [
        "### Explicando cada coluna e seus dados\n",
        "\n",
        "Ao executar o _info_, conseguimos visualizar"
      ]
    },
    {
      "cell_type": "code",
      "metadata": {
        "id": "Ao8b-3Ls6pcL",
        "colab_type": "code",
        "outputId": "525db0c3-6cc6-43cf-bc94-66f4ac1aebcc",
        "colab": {
          "base_uri": "https://localhost:8080/",
          "height": 385
        }
      },
      "source": [
        "print(df.info())"
      ],
      "execution_count": 0,
      "outputs": [
        {
          "output_type": "stream",
          "text": [
            "<class 'pandas.core.frame.DataFrame'>\n",
            "RangeIndex: 6362620 entries, 0 to 6362619\n",
            "Data columns (total 11 columns):\n",
            " #   Column          Dtype  \n",
            "---  ------          -----  \n",
            " 0   step            int64  \n",
            " 1   type            object \n",
            " 2   amount          float64\n",
            " 3   nameOrig        object \n",
            " 4   oldbalanceOrg   float64\n",
            " 5   newbalanceOrig  float64\n",
            " 6   nameDest        object \n",
            " 7   oldbalanceDest  float64\n",
            " 8   newbalanceDest  float64\n",
            " 9   isFraud         int64  \n",
            " 10  isFlaggedFraud  int64  \n",
            "dtypes: float64(5), int64(3), object(3)\n",
            "memory usage: 534.0+ MB\n",
            "None\n"
          ],
          "name": "stdout"
        }
      ]
    },
    {
      "cell_type": "code",
      "metadata": {
        "id": "BdnmuIqCc6nK",
        "colab_type": "code",
        "outputId": "23afefdc-cbcf-49bd-cbc3-f720d5293ccd",
        "colab": {
          "base_uri": "https://localhost:8080/",
          "height": 81
        }
      },
      "source": [
        "# renomeando oldbalanceOrg, newbalanceOrig, oldbalanceDest, newbalanceDest\n",
        "df = df.rename(columns={'oldbalanceOrg':'oldBalanceOrig', 'newbalanceOrig':'newBalanceOrig', 'oldbalanceDest':'oldBalanceDest', 'newbalanceDest':'newBalanceDest'})\n",
        "df.head(1)"
      ],
      "execution_count": 0,
      "outputs": [
        {
          "output_type": "execute_result",
          "data": {
            "text/html": [
              "<div>\n",
              "<style scoped>\n",
              "    .dataframe tbody tr th:only-of-type {\n",
              "        vertical-align: middle;\n",
              "    }\n",
              "\n",
              "    .dataframe tbody tr th {\n",
              "        vertical-align: top;\n",
              "    }\n",
              "\n",
              "    .dataframe thead th {\n",
              "        text-align: right;\n",
              "    }\n",
              "</style>\n",
              "<table border=\"1\" class=\"dataframe\">\n",
              "  <thead>\n",
              "    <tr style=\"text-align: right;\">\n",
              "      <th></th>\n",
              "      <th>step</th>\n",
              "      <th>type</th>\n",
              "      <th>amount</th>\n",
              "      <th>nameOrig</th>\n",
              "      <th>oldBalanceOrig</th>\n",
              "      <th>newBalanceOrig</th>\n",
              "      <th>nameDest</th>\n",
              "      <th>oldBalanceDest</th>\n",
              "      <th>newBalanceDest</th>\n",
              "      <th>isFraud</th>\n",
              "      <th>isFlaggedFraud</th>\n",
              "    </tr>\n",
              "  </thead>\n",
              "  <tbody>\n",
              "    <tr>\n",
              "      <th>0</th>\n",
              "      <td>1</td>\n",
              "      <td>PAYMENT</td>\n",
              "      <td>9839.64</td>\n",
              "      <td>C1231006815</td>\n",
              "      <td>170136.0</td>\n",
              "      <td>160296.36</td>\n",
              "      <td>M1979787155</td>\n",
              "      <td>0.0</td>\n",
              "      <td>0.0</td>\n",
              "      <td>0</td>\n",
              "      <td>0</td>\n",
              "    </tr>\n",
              "  </tbody>\n",
              "</table>\n",
              "</div>"
            ],
            "text/plain": [
              "   step     type   amount     nameOrig  oldBalanceOrig  newBalanceOrig  \\\n",
              "0     1  PAYMENT  9839.64  C1231006815        170136.0       160296.36   \n",
              "\n",
              "      nameDest  oldBalanceDest  newBalanceDest  isFraud  isFlaggedFraud  \n",
              "0  M1979787155             0.0             0.0        0               0  "
            ]
          },
          "metadata": {
            "tags": []
          },
          "execution_count": 113
        }
      ]
    },
    {
      "cell_type": "code",
      "metadata": {
        "id": "oQed-GoOfZJm",
        "colab_type": "code",
        "outputId": "01cb195a-3a55-4bab-c2c3-b0500840dd4e",
        "colab": {
          "base_uri": "https://localhost:8080/",
          "height": 249
        }
      },
      "source": [
        "# verificando se existem valores nulos no dataset\n",
        "df.isna().values.any()\n",
        "df.isna().sum(0).sort_values(ascending = False)"
      ],
      "execution_count": 0,
      "outputs": [
        {
          "output_type": "execute_result",
          "data": {
            "text/plain": [
              "isFlaggedFraud    0\n",
              "isFraud           0\n",
              "newBalanceDest    0\n",
              "oldBalanceDest    0\n",
              "nameDest          0\n",
              "newBalanceOrig    0\n",
              "oldBalanceOrig    0\n",
              "nameOrig          0\n",
              "amount            0\n",
              "type              0\n",
              "step              0\n",
              "dtype: int64"
            ]
          },
          "metadata": {
            "tags": []
          },
          "execution_count": 114
        }
      ]
    },
    {
      "cell_type": "markdown",
      "metadata": {
        "id": "zMdLUlB93axb",
        "colab_type": "text"
      },
      "source": [
        "### Categorizando os tipos de contas\n",
        "- Aqui farei uma categorização de quem para quem foi a trasação. Por exemplo:\n",
        "CC (Customer to Customer), CM (Customer to Merchant), MC (Merchant to Customer), MM (Merchant to Merchant)"
      ]
    },
    {
      "cell_type": "code",
      "metadata": {
        "id": "xe-x_ATY3aKF",
        "colab_type": "code",
        "colab": {}
      },
      "source": [
        "# realiza uma cópia do dataframe\n",
        "newDf = df.copy()\n",
        "newDf[\"accountTransactionType\"] = np.nan\n",
        "newDf.loc[df.nameOrig.str.contains('C') & df.nameDest.str.contains('C'), \"accountTransactionType\"] = \"CC\"\n",
        "newDf.loc[df.nameOrig.str.contains('C') & df.nameDest.str.contains('M'), \"accountTransactionType\"] = \"CM\"\n",
        "newDf.loc[df.nameOrig.str.contains('M') & df.nameDest.str.contains('C'), \"accountTransactionType\"] = \"MC\"\n",
        "newDf.loc[df.nameOrig.str.contains('M') & df.nameDest.str.contains('M'), \"accountTransactionType\"] = \"MM\""
      ],
      "execution_count": 0,
      "outputs": []
    },
    {
      "cell_type": "code",
      "metadata": {
        "id": "N5uG0LSS6Gx0",
        "colab_type": "code",
        "colab": {}
      },
      "source": [
        "fraud = newDf[newDf[\"isFraud\"] == 1]\n",
        "genuine = newDf[newDf[\"isFraud\"] == 0]"
      ],
      "execution_count": 0,
      "outputs": []
    },
    {
      "cell_type": "code",
      "metadata": {
        "id": "1ZAcGYNL-VIu",
        "colab_type": "code",
        "outputId": "97758951-5abe-42c1-c130-301334ccbbd5",
        "colab": {
          "base_uri": "https://localhost:8080/",
          "height": 153
        }
      },
      "source": [
        "# número de transações fraudulentas e genuínas por accountTransactionType\n",
        "print(f\"Número de transações fraudulentas: \\n {fraud.accountTransactionType.value_counts()}\")\n",
        "print(f\"Número de transações genuínas: \\n {genuine.accountTransactionType.value_counts()}\")"
      ],
      "execution_count": 0,
      "outputs": [
        {
          "output_type": "stream",
          "text": [
            "Número de transações fraudulentas: \n",
            " CC    8213\n",
            "Name: accountTransactionType, dtype: int64\n",
            "Número de transações genuínas: \n",
            " CC    4202912\n",
            "CM    2151495\n",
            "Name: accountTransactionType, dtype: int64\n"
          ],
          "name": "stdout"
        }
      ]
    },
    {
      "cell_type": "markdown",
      "metadata": {
        "id": "lR_87Em2_cXP",
        "colab_type": "text"
      },
      "source": [
        "Com a análise acima, percebe-se um certo padrão de que as transações fraudulentas são feitas apenas em transações 'Customer to Customer'.\n",
        "Já que não precisaremos mais desta colunas, as eliminarei"
      ]
    },
    {
      "cell_type": "code",
      "metadata": {
        "id": "7kEaNOKkAn8Y",
        "colab_type": "code",
        "colab": {}
      },
      "source": [
        "fraud = fraud.drop(\"accountTransactionType\", 1)\n",
        "genuine = genuine.drop(\"accountTransactionType\", 1)\n",
        "newDf = newDf.drop(\"accountTransactionType\", 1)"
      ],
      "execution_count": 0,
      "outputs": []
    },
    {
      "cell_type": "markdown",
      "metadata": {
        "id": "7Xm9r4P5GECx",
        "colab_type": "text"
      },
      "source": [
        "### Tipos de transações"
      ]
    },
    {
      "cell_type": "code",
      "metadata": {
        "id": "uAzCsch_j8Hs",
        "colab_type": "code",
        "outputId": "25a7bc5c-efe2-4283-ea05-41bfdf768d2c",
        "colab": {
          "base_uri": "https://localhost:8080/",
          "height": 230
        }
      },
      "source": [
        "print(f\"Tipos de transações fraudulentas: \\n{fraud.type.value_counts()}\")\n",
        "print(f\"Tipos de transações genuínas: \\n{genuine.type.value_counts()}\")"
      ],
      "execution_count": 0,
      "outputs": [
        {
          "output_type": "stream",
          "text": [
            "Tipos de transações fraudulentas: \n",
            "CASH_OUT    4116\n",
            "TRANSFER    4097\n",
            "Name: type, dtype: int64\n",
            "Tipos de transações genuínas: \n",
            "CASH_OUT    2233384\n",
            "PAYMENT     2151495\n",
            "CASH_IN     1399284\n",
            "TRANSFER     528812\n",
            "DEBIT         41432\n",
            "Name: type, dtype: int64\n"
          ],
          "name": "stdout"
        }
      ]
    },
    {
      "cell_type": "markdown",
      "metadata": {
        "id": "2zjnhfXnXJo2",
        "colab_type": "text"
      },
      "source": [
        "Com a análise acima, percebemos que, incluíndo que as transaçoes fraudulentas são de Customer pra Customer, os tipos de transações presentes entre elas é de CASH_OUT e TRANSFER.\n",
        "\n",
        "Das 8213 transações fraudulentas CC, 4116 são CASH_OUT e 4097 TRANSFER."
      ]
    },
    {
      "cell_type": "code",
      "metadata": {
        "id": "0VZ6QQI_YvKg",
        "colab_type": "code",
        "colab": {}
      },
      "source": [
        "# alterando os dataframes para conter apenas transações do tipo CASH_OUT e TRANSFER\n",
        "genuine = genuine[(genuine[\"type\"] == \"CASH_OUT\") | (genuine[\"type\"] == \"TRANSFER\")]\n",
        "newDf = newDf[(newDf[\"type\"] == \"CASH_OUT\") | (newDf[\"type\"] == \"TRANSFER\")]"
      ],
      "execution_count": 0,
      "outputs": []
    },
    {
      "cell_type": "markdown",
      "metadata": {
        "id": "E0_vdUyGZeWl",
        "colab_type": "text"
      },
      "source": [
        "### Saldo antes e depois da transação"
      ]
    },
    {
      "cell_type": "code",
      "metadata": {
        "id": "JemN_H5iZiwC",
        "colab_type": "code",
        "outputId": "bd1fd8ca-0a79-473d-c016-61c5c939a283",
        "colab": {
          "base_uri": "https://localhost:8080/",
          "height": 56
        }
      },
      "source": [
        "wrongOrigBalance = sum(df.oldBalanceOrig - df.amount != df.newBalanceOrig)\n",
        "wrongDestBalance = sum(df.newBalanceDest + df.amount != df.newBalanceDest)\n",
        "print(f\"Porcentagem de saldos errados para pessoas que fizeram a transação: {100*round(wrongOrigBalance/len(df),2)}\")\n",
        "print(f\"Porcentagem de saldos errados para pessoas que receberam a transação: {100*round(wrongDestBalance/len(df),2)}\")"
      ],
      "execution_count": 0,
      "outputs": [
        {
          "output_type": "stream",
          "text": [
            "Porcentagem de saldos errados para pessoas que fizeram a transação: 85.0\n",
            "Porcentagem de saldos errados para pessoas que receberam a transação: 100.0\n"
          ],
          "name": "stdout"
        }
      ]
    },
    {
      "cell_type": "markdown",
      "metadata": {
        "id": "MbEP_AgFj0ph",
        "colab_type": "text"
      },
      "source": [
        "Com o trecho acima, claramente vemos que não conseguimos estimar muito bem o que acontece tanto nas contas que trasnferem quanto nas contas que recebem dinheiro."
      ]
    },
    {
      "cell_type": "code",
      "metadata": {
        "id": "0AQUInEWWBCA",
        "colab_type": "code",
        "outputId": "c5ce8ca6-493e-4041-c04b-8fb8e27a383e",
        "colab": {
          "base_uri": "https://localhost:8080/",
          "height": 36
        }
      },
      "source": [
        "numberOfWrongBalance = (df[\"oldBalanceOrig\"] - df[\"amount\"] != df[\"newBalanceOrig\"]) | (df[\"newBalanceDest\"] + df[\"amount\"] != df[\"newBalanceDest\"])\n",
        "print(f\"Percentual de transações com o saldo errado: {100*round(sum(numberOfWrongBalance)/len(df),2)}\")"
      ],
      "execution_count": 0,
      "outputs": [
        {
          "output_type": "stream",
          "text": [
            "Percentual de transações com o saldo errado: 100.0\n"
          ],
          "name": "stdout"
        }
      ]
    },
    {
      "cell_type": "markdown",
      "metadata": {
        "id": "qKtTvRpbZBvq",
        "colab_type": "text"
      },
      "source": [
        "Com a análise feita acima, percebemos que todos os dados deste dataset apresentam um erro no saldo. Não sei o porque. Para manter a integridade, criarei duas novas colunas no dataset: _errorBalanceOrig_ e _errorBalanceDest_."
      ]
    },
    {
      "cell_type": "code",
      "metadata": {
        "id": "W8YsTiqmcA_Z",
        "colab_type": "code",
        "colab": {}
      },
      "source": [
        "newDf[\"errorBalanceOrig\"] = newDf.newBalanceOrig + newDf.amount - newDf.oldBalanceOrig\n",
        "newDf[\"errorBalanceDest\"] = newDf.oldBalanceDest + newDf.amount - newDf.newBalanceDest\n",
        "\n",
        "#inserindo dados no fraud e genuine\n",
        "fraud = newDf[newDf[\"isFraud\"] == 1]\n",
        "genuine = newDf[newDf[\"isFraud\"] == 0]"
      ],
      "execution_count": 0,
      "outputs": []
    },
    {
      "cell_type": "code",
      "metadata": {
        "id": "8Qm93bAQdHXO",
        "colab_type": "code",
        "outputId": "8ceab7d5-9143-493f-e4f8-3516a75f1101",
        "colab": {
          "base_uri": "https://localhost:8080/",
          "height": 424
        }
      },
      "source": [
        "print(\"Summary statistics of errorBalanceOrg for fraudulent transactions: \\n\",fraud[\"errorBalanceOrig\"].describe())\n",
        "print(\"\\n Summary statistics of errorBalanceOrg for valid transactions: \\n\",genuine[\"errorBalanceOrig\"].describe())"
      ],
      "execution_count": 0,
      "outputs": [
        {
          "output_type": "stream",
          "text": [
            "Summary statistics of errorBalanceOrg for fraudulent transactions: \n",
            " count    8.213000e+03\n",
            "mean     1.069233e+04\n",
            "std      2.651461e+05\n",
            "min     -7.450581e-09\n",
            "25%      0.000000e+00\n",
            "50%      0.000000e+00\n",
            "75%      0.000000e+00\n",
            "max      1.000000e+07\n",
            "Name: errorBalanceOrig, dtype: float64\n",
            "\n",
            " Summary statistics of errorBalanceOrg for valid transactions: \n",
            " count    2.762196e+06\n",
            "mean     2.868035e+05\n",
            "std      8.763752e+05\n",
            "min     -1.000000e-02\n",
            "25%      5.261343e+04\n",
            "50%      1.442008e+05\n",
            "75%      2.804663e+05\n",
            "max      9.244552e+07\n",
            "Name: errorBalanceOrig, dtype: float64\n"
          ],
          "name": "stdout"
        }
      ]
    },
    {
      "cell_type": "markdown",
      "metadata": {
        "id": "xo154DaZIEs0",
        "colab_type": "text"
      },
      "source": [
        "## O que determina uma transação ser marcada como _isFlaggedFraud_?"
      ]
    },
    {
      "cell_type": "code",
      "metadata": {
        "id": "yeT11eNxLvJj",
        "colab_type": "code",
        "outputId": "658c1574-6ccf-45e3-eb4c-57d18a44ff39",
        "colab": {
          "base_uri": "https://localhost:8080/",
          "height": 133
        }
      },
      "source": [
        "countIsFlaggedFraud = df.loc[(df.isFlaggedFraud == 1)]\n",
        "print(\"O número de transações marcadas como isFlaggedFraud é: {} \".format(len(countIsFlaggedFraud)))\n",
        "\n",
        "print(\"O tipo de transações que estão flagadas com isFlaggedFraud é: {}\".format(list(df.loc[df.isFlaggedFraud == 1].type.drop_duplicates())))\n",
        "\n",
        "dfTransfer = df.loc[df.type == 'TRANSFER']\n",
        "dfFlagged = df.loc[df.isFlaggedFraud == 1]\n",
        "dfNotFlagged = df.loc[df.isFlaggedFraud == 0]\n",
        "\n",
        "print('\\nValor minimo transacionado quando a flag esta ativa: ${}'.format(dfFlagged.amount.min()))\n",
        "print('\\nValor maximo quando a flag estava inativa: ${}'.format(dfNotFlagged.amount.max()))"
      ],
      "execution_count": 0,
      "outputs": [
        {
          "output_type": "stream",
          "text": [
            "O número de transações marcadas como isFlaggedFraud é: 16 \n",
            "O tipo de transações que estão flagadas com isFlaggedFraud é: ['TRANSFER']\n",
            "\n",
            "Valor minimo transacionado quando a flag esta ativa: $353874.22\n",
            "\n",
            "Valor maximo quando a flag estava inativa: $92445516.64\n"
          ],
          "name": "stdout"
        }
      ]
    },
    {
      "cell_type": "code",
      "metadata": {
        "id": "l4dSSMTnEJzL",
        "colab_type": "code",
        "outputId": "eb312be9-6500-484f-e25a-447e677f7dcf",
        "colab": {
          "base_uri": "https://localhost:8080/",
          "height": 56
        }
      },
      "source": [
        "print('\\nThe number of TRANSFERs where isFlaggedFraud = 0, yet oldBalanceDest = 0 and\\\n",
        " newBalanceDest = 0: {}'.\\\n",
        "format(len(dfTransfer.loc[(dfTransfer.isFlaggedFraud == 0) & \\\n",
        "(dfTransfer.oldBalanceDest == 0) & (dfTransfer.newBalanceDest == 0)])))"
      ],
      "execution_count": 0,
      "outputs": [
        {
          "output_type": "stream",
          "text": [
            "\n",
            "The number of TRANSFERs where isFlaggedFraud = 0, yet oldBalanceDest = 0 and newBalanceDest = 0: 4158\n"
          ],
          "name": "stdout"
        }
      ]
    },
    {
      "cell_type": "code",
      "metadata": {
        "id": "L4_BgTa3VsDI",
        "colab_type": "code",
        "outputId": "091b7b8c-4e16-401c-f89b-78e4ef892dfc",
        "colab": {
          "base_uri": "https://localhost:8080/",
          "height": 94
        }
      },
      "source": [
        "print(f'\\nMin e Max da oldBalanceOrig pra flaggedFraud = 1 TRANSFERS {round(dfFlagged.oldBalanceOrig.min()), round(dfFlagged.oldBalanceOrig.max())}')\n",
        "\n",
        "dfTransferEqualBalance = dfTransfer.loc[(dfTransfer.isFlaggedFraud == 0) & (dfTransfer.oldBalanceOrig == dfTransfer.newBalanceOrig)]\n",
        "print(f'\\nMin e Max da oldBalanceOrig pra flaggedFraud = 0 pra quando oldBalanceOrig \\\n",
        "for igual a newBalanceOrig {round(dfTransferEqualBalance.oldBalanceOrig.min()), round(dfTransferEqualBalance.oldBalanceOrig.max())}')"
      ],
      "execution_count": 0,
      "outputs": [
        {
          "output_type": "stream",
          "text": [
            "\n",
            "Min e Max da oldBalanceOrig pra flaggedFraud = 1 TRANSFERS (353874, 19585040)\n",
            "\n",
            "Min e Max da oldBalanceOrig pra flaggedFraud = 0 pra quando oldBalanceOrig for igual a newBalanceOrig (0, 575668)\n"
          ],
          "name": "stdout"
        }
      ]
    },
    {
      "cell_type": "markdown",
      "metadata": {
        "id": "QCrhnZQbPu9_",
        "colab_type": "text"
      },
      "source": [
        "## Há contas marcadas normais para TRANSFERs e CASH_OUTs fraudulentos?\n",
        "\n",
        "Pela descrição do dataset, as fraudes acontecem primeiro com uma TRANSFER para uma conta fraudulenta, e esta conta ao receber o dinheiro realiza uma operaçãão de CASH_OUT. CASH_OUT envolve transacionar com um comerciante que paga em dinheiro. Contudo, com este comportamento citado acima, a conta fraudulenta pode ser ambas, o destino em uma TRANSFER e quem deu origem ao CASH_OUT."
      ]
    },
    {
      "cell_type": "code",
      "metadata": {
        "id": "RRMr0m-KQM-2",
        "colab_type": "code",
        "outputId": "51383217-5a96-4463-e535-978a4b901135",
        "colab": {
          "base_uri": "https://localhost:8080/",
          "height": 36
        }
      },
      "source": [
        "dfFraudTransfer = df.loc[(df.isFraud == 1) & (df.type == 'TRANSFER')]\n",
        "dfFraudCashout = df.loc[(df.isFraud == 1) & (df.type == 'CASH_OUT')]\n",
        "print(f'Há contas que foram o destino da TRANSFER que também gerou a CASH_OUT? \\\n",
        "{dfFraudTransfer.nameDest.isin(dfFraudCashout.nameOrig).any()}')"
      ],
      "execution_count": 0,
      "outputs": [
        {
          "output_type": "stream",
          "text": [
            "Há contas que foram o destino da TRANSFER que também gerou a CASH_OUT? False\n"
          ],
          "name": "stdout"
        }
      ]
    },
    {
      "cell_type": "code",
      "metadata": {
        "id": "0sIrjfuTYgLo",
        "colab_type": "code",
        "outputId": "0b0e2b4f-1de9-42ba-919a-60818a2cf259",
        "colab": {
          "base_uri": "https://localhost:8080/",
          "height": 346
        }
      },
      "source": [
        "dfNotFraud = df.loc[(df.isFraud == 0)]\n",
        "print('\\nTRANSFERs fraudulentas no qual a conta de destino era geradora genuina de CASH_OUTs\\\n",
        ": \\n\\n{}'.format(dfFraudTransfer.loc[dfFraudTransfer.nameDest.\\\n",
        "isin(dfNotFraud.loc[dfNotFraud.type == 'CASH_OUT'].nameOrig.drop_duplicates())]))"
      ],
      "execution_count": 0,
      "outputs": [
        {
          "output_type": "stream",
          "text": [
            "\n",
            "TRANSFERs fraudulentas no qual a conta de destino era geradora genuina de CASH_OUTs: \n",
            "\n",
            "         step      type      amount     nameOrig  oldBalanceOrig  \\\n",
            "1030443    65  TRANSFER  1282971.57  C1175896731      1282971.57   \n",
            "6039814   486  TRANSFER   214793.32  C2140495649       214793.32   \n",
            "6362556   738  TRANSFER   814689.88  C2029041842       814689.88   \n",
            "\n",
            "         newBalanceOrig     nameDest  oldBalanceDest  newBalanceDest  isFraud  \\\n",
            "1030443             0.0  C1714931087             0.0             0.0        1   \n",
            "6039814             0.0   C423543548             0.0             0.0        1   \n",
            "6362556             0.0  C1023330867             0.0             0.0        1   \n",
            "\n",
            "         isFlaggedFraud  \n",
            "1030443               0  \n",
            "6039814               0  \n",
            "6362556               0  \n"
          ],
          "name": "stdout"
        }
      ]
    },
    {
      "cell_type": "code",
      "metadata": {
        "id": "HE2HjT6hIxrd",
        "colab_type": "code",
        "outputId": "5fcac94e-59d4-4507-eb14-c3cb9298a816",
        "colab": {
          "base_uri": "https://localhost:8080/",
          "height": 36
        }
      },
      "source": [
        "\n",
        "#numero de transações marcadas como isFraud\n",
        "countIsFraud = df.loc[(df.isFraud == 1)]\n",
        "print(f'o número de transações marcadas como isFraud é: {len(countIsFraud)}')"
      ],
      "execution_count": 0,
      "outputs": [
        {
          "output_type": "stream",
          "text": [
            "o número de transações marcadas como isFraud é: 8213\n"
          ],
          "name": "stdout"
        }
      ]
    },
    {
      "cell_type": "code",
      "metadata": {
        "id": "LjNIJSk5axU9",
        "colab_type": "code",
        "outputId": "49f0a0e5-e936-48bf-9159-28d2071f862e",
        "colab": {
          "base_uri": "https://localhost:8080/",
          "height": 36
        }
      },
      "source": [
        "#porque temos transações em que não bate o número?\n",
        "print('Checking if amount - oldBalanceOrig == newBalanceOrig')\n",
        "dfCheckBalance = df.loc[(df.oldBalanceOrig - df.amount) != df.newBalanceOrig]"
      ],
      "execution_count": 0,
      "outputs": [
        {
          "output_type": "stream",
          "text": [
            "Checking if amount - oldBalanceOrig == newBalanceOrig\n"
          ],
          "name": "stdout"
        }
      ]
    },
    {
      "cell_type": "code",
      "metadata": {
        "id": "OYltUy_QlOKd",
        "colab_type": "code",
        "outputId": "9e3c94c3-b433-4411-a5e1-6be336b6cfa3",
        "colab": {
          "base_uri": "https://localhost:8080/",
          "height": 678
        }
      },
      "source": [
        "values = df.type.value_counts()\n",
        "print(values)\n",
        "\n",
        "fig, ax = plt.subplots(1, 1, figsize = (8, 8))\n",
        "values.plot(kind='bar', title='Tipos de Transação', ax=ax)\n",
        "#retirando notação científica\n",
        "plt.gcf().axes[0].yaxis.get_major_formatter().set_scientific(False)\n",
        "plt.show"
      ],
      "execution_count": 0,
      "outputs": [
        {
          "output_type": "stream",
          "text": [
            "CASH_OUT    2237500\n",
            "PAYMENT     2151495\n",
            "CASH_IN     1399284\n",
            "TRANSFER     532909\n",
            "DEBIT         41432\n",
            "Name: type, dtype: int64\n"
          ],
          "name": "stdout"
        },
        {
          "output_type": "execute_result",
          "data": {
            "text/plain": [
              "<function matplotlib.pyplot.show>"
            ]
          },
          "metadata": {
            "tags": []
          },
          "execution_count": 132
        },
        {
          "output_type": "display_data",
          "data": {
            "image/png": "[encoded data removed]",
            "text/plain": [
              "<Figure size 576x576 with 1 Axes>"
            ]
          },
          "metadata": {
            "tags": [],
            "needs_background": "light"
          }
        }
      ]
    },
    {
      "cell_type": "markdown",
      "metadata": {
        "id": "h0ZT6E-EN0Y-",
        "colab_type": "text"
      },
      "source": [
        "# Limpeza dos dados\n",
        "\n",
        "Depois de ter realizado a análise de dados acima, percebemos que as fraudes somente acontetem em TRANSFERS e CASH_OUTS. Desta forma reunirei apenas os dados relevantes"
      ]
    },
    {
      "cell_type": "code",
      "metadata": {
        "id": "k5R7A7u_OP39",
        "colab_type": "code",
        "outputId": "eee0887b-27a9-40b6-9ed7-781dbec03515",
        "colab": {
          "base_uri": "https://localhost:8080/",
          "height": 36
        }
      },
      "source": [
        "# selecionando apenas transfers e cashout\n",
        "cleanedDf = df.loc[(df.type == 'TRANSFER') | (df.type == 'CASH_OUT')]\n",
        "print(cleanedDf.shape)"
      ],
      "execution_count": 0,
      "outputs": [
        {
          "output_type": "stream",
          "text": [
            "(2770409, 11)\n"
          ],
          "name": "stdout"
        }
      ]
    },
    {
      "cell_type": "code",
      "metadata": {
        "id": "gMMn21sdO0ax",
        "colab_type": "code",
        "outputId": "9e740e7b-98bc-47d6-fff9-4f339cb67039",
        "colab": {
          "base_uri": "https://localhost:8080/",
          "height": 36
        }
      },
      "source": [
        "dummy = cleanedDf['isFraud']\n",
        "del cleanedDf['isFraud']\n",
        "print(cleanedDf.shape)"
      ],
      "execution_count": 0,
      "outputs": [
        {
          "output_type": "stream",
          "text": [
            "(2770409, 10)\n"
          ],
          "name": "stdout"
        }
      ]
    },
    {
      "cell_type": "code",
      "metadata": {
        "id": "x09eQx3yO2et",
        "colab_type": "code",
        "outputId": "91d8cdd1-a881-48d8-c11f-d60fc195d5c5",
        "colab": {
          "base_uri": "https://localhost:8080/",
          "height": 36
        }
      },
      "source": [
        "#eliminando colunas irrelevantes\n",
        "cleanedDf = cleanedDf.drop(['nameOrig', 'nameDest', 'isFlaggedFraud'], axis = 1)\n",
        "print(cleanedDf.shape)"
      ],
      "execution_count": 0,
      "outputs": [
        {
          "output_type": "stream",
          "text": [
            "(2770409, 7)\n"
          ],
          "name": "stdout"
        }
      ]
    },
    {
      "cell_type": "code",
      "metadata": {
        "id": "0UadezlhP2w0",
        "colab_type": "code",
        "colab": {}
      },
      "source": [
        "# realizando o binary-encoding dos dados\n",
        "cleanedDf['type'] = cleanedDf['type'].map({\n",
        "    'TRANSFER': 0,\n",
        "    'CASH_OUT': 1\n",
        "})"
      ],
      "execution_count": 0,
      "outputs": []
    },
    {
      "cell_type": "code",
      "metadata": {
        "id": "myp5IQuZR3kF",
        "colab_type": "code",
        "outputId": "795eba7e-6be8-4c6f-b460-89bcda8ad0f5",
        "colab": {
          "base_uri": "https://localhost:8080/",
          "height": 288
        }
      },
      "source": [
        "cleanedDf.info()"
      ],
      "execution_count": 0,
      "outputs": [
        {
          "output_type": "stream",
          "text": [
            "<class 'pandas.core.frame.DataFrame'>\n",
            "Int64Index: 2770409 entries, 2 to 6362619\n",
            "Data columns (total 7 columns):\n",
            " #   Column          Dtype  \n",
            "---  ------          -----  \n",
            " 0   step            int64  \n",
            " 1   type            int64  \n",
            " 2   amount          float64\n",
            " 3   oldBalanceOrig  float64\n",
            " 4   newBalanceOrig  float64\n",
            " 5   oldBalanceDest  float64\n",
            " 6   newBalanceDest  float64\n",
            "dtypes: float64(5), int64(2)\n",
            "memory usage: 169.1 MB\n"
          ],
          "name": "stdout"
        }
      ]
    },
    {
      "cell_type": "markdown",
      "metadata": {
        "id": "JQAcFtoAgQ1x",
        "colab_type": "text"
      },
      "source": [
        "## Eliminação de valores ausentes"
      ]
    },
    {
      "cell_type": "code",
      "metadata": {
        "id": "QomNtATNgXKY",
        "colab_type": "code",
        "outputId": "147a88a5-92eb-47af-ae76-f7ae940b09b6",
        "colab": {
          "base_uri": "https://localhost:8080/",
          "height": 56
        }
      },
      "source": [
        "fraud = cleanedDf.loc[dummy == 1]\n",
        "nonFraud = cleanedDf.loc[dummy == 0]\n",
        "percentageOfFraudulent = (len(fraud.loc[(fraud.oldBalanceDest == 0) & \\\n",
        "(fraud.newBalanceDest == 0) & (fraud.amount)]) / (1.0 * len(fraud)))\n",
        "print(f\"\\nA porcentagem de transações fraudulentas com \\'oldBalanceDest\\' = \\\n",
        "\\'newBalanceDest\\'= 0 embora o \\'amount\\' não é zero: {percentageOfFraudulent}\")"
      ],
      "execution_count": 0,
      "outputs": [
        {
          "output_type": "stream",
          "text": [
            "\n",
            "A porcentagem de transações fraudulentas com 'oldBalanceDest' = 'newBalanceDest'= 0 embora o 'amount' não é zero: 0.4955558261293072\n"
          ],
          "name": "stdout"
        }
      ]
    },
    {
      "cell_type": "code",
      "metadata": {
        "id": "IYn1AnYNhJYd",
        "colab_type": "code",
        "outputId": "ceea5c64-5ee2-4663-96ee-7c00d7abf0ec",
        "colab": {
          "base_uri": "https://localhost:8080/",
          "height": 56
        }
      },
      "source": [
        "percentageNonFraud = (len(nonFraud.loc[(nonFraud.oldBalanceDest == 0) & \\\n",
        "(nonFraud.newBalanceDest == 0) & (nonFraud.amount)]) / (1.0 * len(nonFraud)))\n",
        "print(f\"\\nA porcentagem de transações não fraudulentas com \\'oldBalanceDest\\' = \\\n",
        "\\'newBalanceDest\\'= 0 embora o \\'amount\\' não é zero: {percentageNonFraud}\")"
      ],
      "execution_count": 0,
      "outputs": [
        {
          "output_type": "stream",
          "text": [
            "\n",
            "A porcentagem de transações não fraudulentas com 'oldBalanceDest' = 'newBalanceDest'= 0 embora o 'amount' não é zero: 0.0006176245277308345\n"
          ],
          "name": "stdout"
        }
      ]
    },
    {
      "cell_type": "markdown",
      "metadata": {
        "id": "jdGFLU6EwvWh",
        "colab_type": "text"
      },
      "source": [
        "Um dos maiores indicadores de transações fraudulentas é o saldo da conta de destino estar zerado, como mostrado acima. Deste modo, para facilitar o processo de ML, alterarei os valores de saldo zerado pra -1"
      ]
    },
    {
      "cell_type": "code",
      "metadata": {
        "id": "unL6VyvzxLlb",
        "colab_type": "code",
        "colab": {}
      },
      "source": [
        "cleanedDf.loc[(cleanedDf.oldBalanceDest == 0) & (cleanedDf.newBalanceDest == 0) & (cleanedDf.amount != 0), \\\n",
        "['oldBalanceDest', 'newBalanceDest']] = -1"
      ],
      "execution_count": 0,
      "outputs": []
    },
    {
      "cell_type": "markdown",
      "metadata": {
        "id": "ru6LsjdpyOzT",
        "colab_type": "text"
      },
      "source": [
        "Também há várias transações em que os saldos da conta de origem são zeros. Pelo mesmo motivo acima, decidi alterá-los com null."
      ]
    },
    {
      "cell_type": "code",
      "metadata": {
        "id": "tDZH9MR-yeZe",
        "colab_type": "code",
        "colab": {}
      },
      "source": [
        "cleanedDf.loc[(cleanedDf.oldBalanceOrig == 0) & (cleanedDf.newBalanceOrig == 0) & (cleanedDf.amount != 0), \\\n",
        "['oldBalanceOrig', 'newBalanceOrig']] = np.nan"
      ],
      "execution_count": 0,
      "outputs": []
    },
    {
      "cell_type": "code",
      "metadata": {
        "id": "ErhcHzfBypRA",
        "colab_type": "code",
        "outputId": "7562f341-98e1-4ed5-fa62-8e80ff160db0",
        "colab": {
          "base_uri": "https://localhost:8080/",
          "height": 206
        }
      },
      "source": [
        "cleanedDf.head()"
      ],
      "execution_count": 0,
      "outputs": [
        {
          "output_type": "execute_result",
          "data": {
            "text/html": [
              "<div>\n",
              "<style scoped>\n",
              "    .dataframe tbody tr th:only-of-type {\n",
              "        vertical-align: middle;\n",
              "    }\n",
              "\n",
              "    .dataframe tbody tr th {\n",
              "        vertical-align: top;\n",
              "    }\n",
              "\n",
              "    .dataframe thead th {\n",
              "        text-align: right;\n",
              "    }\n",
              "</style>\n",
              "<table border=\"1\" class=\"dataframe\">\n",
              "  <thead>\n",
              "    <tr style=\"text-align: right;\">\n",
              "      <th></th>\n",
              "      <th>step</th>\n",
              "      <th>type</th>\n",
              "      <th>amount</th>\n",
              "      <th>oldBalanceOrig</th>\n",
              "      <th>newBalanceOrig</th>\n",
              "      <th>oldBalanceDest</th>\n",
              "      <th>newBalanceDest</th>\n",
              "    </tr>\n",
              "  </thead>\n",
              "  <tbody>\n",
              "    <tr>\n",
              "      <th>2</th>\n",
              "      <td>1</td>\n",
              "      <td>0</td>\n",
              "      <td>181.00</td>\n",
              "      <td>181.0</td>\n",
              "      <td>0.0</td>\n",
              "      <td>-1.0</td>\n",
              "      <td>-1.00</td>\n",
              "    </tr>\n",
              "    <tr>\n",
              "      <th>3</th>\n",
              "      <td>1</td>\n",
              "      <td>1</td>\n",
              "      <td>181.00</td>\n",
              "      <td>181.0</td>\n",
              "      <td>0.0</td>\n",
              "      <td>21182.0</td>\n",
              "      <td>0.00</td>\n",
              "    </tr>\n",
              "    <tr>\n",
              "      <th>15</th>\n",
              "      <td>1</td>\n",
              "      <td>1</td>\n",
              "      <td>229133.94</td>\n",
              "      <td>15325.0</td>\n",
              "      <td>0.0</td>\n",
              "      <td>5083.0</td>\n",
              "      <td>51513.44</td>\n",
              "    </tr>\n",
              "    <tr>\n",
              "      <th>19</th>\n",
              "      <td>1</td>\n",
              "      <td>0</td>\n",
              "      <td>215310.30</td>\n",
              "      <td>705.0</td>\n",
              "      <td>0.0</td>\n",
              "      <td>22425.0</td>\n",
              "      <td>0.00</td>\n",
              "    </tr>\n",
              "    <tr>\n",
              "      <th>24</th>\n",
              "      <td>1</td>\n",
              "      <td>0</td>\n",
              "      <td>311685.89</td>\n",
              "      <td>10835.0</td>\n",
              "      <td>0.0</td>\n",
              "      <td>6267.0</td>\n",
              "      <td>2719172.89</td>\n",
              "    </tr>\n",
              "  </tbody>\n",
              "</table>\n",
              "</div>"
            ],
            "text/plain": [
              "    step  type     amount  oldBalanceOrig  newBalanceOrig  oldBalanceDest  \\\n",
              "2      1     0     181.00           181.0             0.0            -1.0   \n",
              "3      1     1     181.00           181.0             0.0         21182.0   \n",
              "15     1     1  229133.94         15325.0             0.0          5083.0   \n",
              "19     1     0  215310.30           705.0             0.0         22425.0   \n",
              "24     1     0  311685.89         10835.0             0.0          6267.0   \n",
              "\n",
              "    newBalanceDest  \n",
              "2            -1.00  \n",
              "3             0.00  \n",
              "15        51513.44  \n",
              "19            0.00  \n",
              "24      2719172.89  "
            ]
          },
          "metadata": {
            "tags": []
          },
          "execution_count": 142
        }
      ]
    },
    {
      "cell_type": "markdown",
      "metadata": {
        "id": "ugIzKMX6014-",
        "colab_type": "text"
      },
      "source": [
        "# Feature-engineering\n",
        "\n",
        "Para aumentar a assertividade da solução de ML, criarei uma nova coluna no dataset chamada de `errorBalanceOrig` e `errorBalanceDest`"
      ]
    },
    {
      "cell_type": "code",
      "metadata": {
        "id": "PykQhZ2J01k-",
        "colab_type": "code",
        "colab": {}
      },
      "source": [
        "cleanedDf['errorBalanceOrig'] = cleanedDf.newBalanceOrig + cleanedDf.amount - cleanedDf.oldBalanceOrig\n",
        "cleanedDf['errorBalanceDest'] = cleanedDf.oldBalanceDest + cleanedDf.amount - cleanedDf.newBalanceDest"
      ],
      "execution_count": 0,
      "outputs": []
    },
    {
      "cell_type": "code",
      "metadata": {
        "id": "DLoVN48v2Hlb",
        "colab_type": "code",
        "outputId": "1a7730a8-b335-4e37-9a6b-42da9686c105",
        "colab": {
          "base_uri": "https://localhost:8080/",
          "height": 206
        }
      },
      "source": [
        "cleanedDf.head()"
      ],
      "execution_count": 0,
      "outputs": [
        {
          "output_type": "execute_result",
          "data": {
            "text/html": [
              "<div>\n",
              "<style scoped>\n",
              "    .dataframe tbody tr th:only-of-type {\n",
              "        vertical-align: middle;\n",
              "    }\n",
              "\n",
              "    .dataframe tbody tr th {\n",
              "        vertical-align: top;\n",
              "    }\n",
              "\n",
              "    .dataframe thead th {\n",
              "        text-align: right;\n",
              "    }\n",
              "</style>\n",
              "<table border=\"1\" class=\"dataframe\">\n",
              "  <thead>\n",
              "    <tr style=\"text-align: right;\">\n",
              "      <th></th>\n",
              "      <th>step</th>\n",
              "      <th>type</th>\n",
              "      <th>amount</th>\n",
              "      <th>oldBalanceOrig</th>\n",
              "      <th>newBalanceOrig</th>\n",
              "      <th>oldBalanceDest</th>\n",
              "      <th>newBalanceDest</th>\n",
              "      <th>errorBalanceOrig</th>\n",
              "      <th>errorBalanceDest</th>\n",
              "    </tr>\n",
              "  </thead>\n",
              "  <tbody>\n",
              "    <tr>\n",
              "      <th>2</th>\n",
              "      <td>1</td>\n",
              "      <td>0</td>\n",
              "      <td>181.00</td>\n",
              "      <td>181.0</td>\n",
              "      <td>0.0</td>\n",
              "      <td>-1.0</td>\n",
              "      <td>-1.00</td>\n",
              "      <td>0.00</td>\n",
              "      <td>181.0</td>\n",
              "    </tr>\n",
              "    <tr>\n",
              "      <th>3</th>\n",
              "      <td>1</td>\n",
              "      <td>1</td>\n",
              "      <td>181.00</td>\n",
              "      <td>181.0</td>\n",
              "      <td>0.0</td>\n",
              "      <td>21182.0</td>\n",
              "      <td>0.00</td>\n",
              "      <td>0.00</td>\n",
              "      <td>21363.0</td>\n",
              "    </tr>\n",
              "    <tr>\n",
              "      <th>15</th>\n",
              "      <td>1</td>\n",
              "      <td>1</td>\n",
              "      <td>229133.94</td>\n",
              "      <td>15325.0</td>\n",
              "      <td>0.0</td>\n",
              "      <td>5083.0</td>\n",
              "      <td>51513.44</td>\n",
              "      <td>213808.94</td>\n",
              "      <td>182703.5</td>\n",
              "    </tr>\n",
              "    <tr>\n",
              "      <th>19</th>\n",
              "      <td>1</td>\n",
              "      <td>0</td>\n",
              "      <td>215310.30</td>\n",
              "      <td>705.0</td>\n",
              "      <td>0.0</td>\n",
              "      <td>22425.0</td>\n",
              "      <td>0.00</td>\n",
              "      <td>214605.30</td>\n",
              "      <td>237735.3</td>\n",
              "    </tr>\n",
              "    <tr>\n",
              "      <th>24</th>\n",
              "      <td>1</td>\n",
              "      <td>0</td>\n",
              "      <td>311685.89</td>\n",
              "      <td>10835.0</td>\n",
              "      <td>0.0</td>\n",
              "      <td>6267.0</td>\n",
              "      <td>2719172.89</td>\n",
              "      <td>300850.89</td>\n",
              "      <td>-2401220.0</td>\n",
              "    </tr>\n",
              "  </tbody>\n",
              "</table>\n",
              "</div>"
            ],
            "text/plain": [
              "    step  type     amount  oldBalanceOrig  newBalanceOrig  oldBalanceDest  \\\n",
              "2      1     0     181.00           181.0             0.0            -1.0   \n",
              "3      1     1     181.00           181.0             0.0         21182.0   \n",
              "15     1     1  229133.94         15325.0             0.0          5083.0   \n",
              "19     1     0  215310.30           705.0             0.0         22425.0   \n",
              "24     1     0  311685.89         10835.0             0.0          6267.0   \n",
              "\n",
              "    newBalanceDest  errorBalanceOrig  errorBalanceDest  \n",
              "2            -1.00              0.00             181.0  \n",
              "3             0.00              0.00           21363.0  \n",
              "15        51513.44         213808.94          182703.5  \n",
              "19            0.00         214605.30          237735.3  \n",
              "24      2719172.89         300850.89        -2401220.0  "
            ]
          },
          "metadata": {
            "tags": []
          },
          "execution_count": 144
        }
      ]
    },
    {
      "cell_type": "markdown",
      "metadata": {
        "id": "OwZz1-oM3BMe",
        "colab_type": "text"
      },
      "source": [
        "# Visualização dos dados\n",
        "\n",
        "Sabemos que a melhor maneira para realmente confirmar as análises realizadas acima, é visualizar estes dados para assim obtermos maior precisão nas análises, e se necessário até mesmo realizar algumas modificações para melhorá-los."
      ]
    },
    {
      "cell_type": "code",
      "metadata": {
        "id": "OfIkaYwEaRrY",
        "colab_type": "code",
        "colab": {}
      },
      "source": [
        "limit = len(cleanedDf)\n",
        "\n",
        "def plotStrip(x, y, hue, figsize = (14, 9)):\n",
        "    \n",
        "    fig = plt.figure(figsize = figsize)\n",
        "    colours = plt.cm.tab10(np.linspace(0, 1, 9))\n",
        "    with sns.axes_style('ticks'):\n",
        "        ax = sns.stripplot(x, y, \\\n",
        "             hue = hue, jitter = 0.4, marker = '.', \\\n",
        "             size = 4, palette = colours)\n",
        "        ax.set_xlabel('')\n",
        "        ax.set_xticklabels(['genuine', 'fraudulent'], size = 16)\n",
        "        for axis in ['top','bottom','left','right']:\n",
        "            ax.spines[axis].set_linewidth(2)\n",
        "\n",
        "        handles, labels = ax.get_legend_handles_labels()\n",
        "        plt.legend(handles, ['TRANSFER', 'CASH_OUT'], bbox_to_anchor=(1, 1), \\\n",
        "               loc=2, borderaxespad=0, fontsize = 16);\n",
        "    return ax"
      ],
      "execution_count": 0,
      "outputs": []
    },
    {
      "cell_type": "code",
      "metadata": {
        "id": "oBytr67FcIly",
        "colab_type": "code",
        "colab": {}
      },
      "source": [
        ""
      ],
      "execution_count": 0,
      "outputs": []
    }
  ]
}