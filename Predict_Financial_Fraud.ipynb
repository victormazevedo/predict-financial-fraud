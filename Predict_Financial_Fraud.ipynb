{
  "nbformat": 4,
  "nbformat_minor": 0,
  "metadata": {
    "colab": {
      "name": "Predict_Financial_Fraud.ipynb",
      "provenance": [],
      "collapsed_sections": [],
      "toc_visible": true,
      "authorship_tag": "ABX9TyMjsuh34CpwPfP0mcRotbnl",
      "include_colab_link": true
    },
    "kernelspec": {
      "name": "python3",
      "display_name": "Python 3"
    }
  },
  "cells": [
    {
      "cell_type": "markdown",
      "metadata": {
        "id": "view-in-github",
        "colab_type": "text"
      },
      "source": [
        "<a href=\"https://colab.research.google.com/github/victormazevedo/predict-financial-fraud/blob/master/Predict_Financial_Fraud.ipynb\" target=\"_parent\"><img src=\"https://colab.research.google.com/assets/colab-badge.svg\" alt=\"Open In Colab\"/></a>"
      ]
    },
    {
      "cell_type": "markdown",
      "metadata": {
        "id": "I_dn8yIZh6Gg",
        "colab_type": "text"
      },
      "source": [
        "# Predict Financial Fraud with Data Science Analysis\n",
        "\n",
        "![alt text](http://www.fatecrp.edu.br/wp-content/themes/fatecrp/dist/img/logo.png)\n",
        "\n",
        "This is a final-project destinated to Analise e Densenvolvimento de Sistema's course of Fatec Ribeirão Preto\n",
        "\n",
        "O seguinte projeto é destinado ao trabalho de conclusão de curso do curso de Análise e Desenvolvimento de Sistemas da Fatec Ribeirão Preto. O tema deste projeto é Detecção Automática de Fraude Financeira utilizando Data Science.\n",
        "\n",
        "Para isto, utilizarei um [dataset](https://www.kaggle.com/ntnu-testimon/paysim1) presente no site [Kaggle](https://kaggle.com).\n",
        "Este dataset simula transações realizadas via mobile com base em uma amostra de um mês inteiro, disponibilizado por um grande serviço de banco digital da África. Este mesmo serviço também existe em 14 países.\n",
        "O dataset disponibilizado no Kaggle representa 1/4 do dataset original."
      ]
    },
    {
      "cell_type": "markdown",
      "metadata": {
        "id": "kDX-f1fghu6L",
        "colab_type": "text"
      },
      "source": [
        "# Breve descrição do Dataset\n",
        "\n",
        "* step - mapeia a unidade de tempo no mundo real.\n",
        "\n",
        "* type - CASH-IN, CASH-OUT, DEBIT, PAYMENT and TRANSFER.\n",
        "\n",
        "* amount - total da transação na moeda local.\n",
        "\n",
        "* nameOrig - cliente que começou a transação.\n",
        "\n",
        "* oldbalanceOrg - saldo inicial antes da transação.\n",
        "\n",
        "* newbalanceOrig - saldo final depois da transação.\n",
        "\n",
        "* nameDest - cliente que recebeu a transação (destinatário/favorecido).\n",
        "\n",
        "* oldbalanceDest - initial balance recipient before the transaction. Note that there is not information for customers that start with M (Merchants).\n",
        "\n",
        "* newbalanceDest - new balance recipient after the transaction. Note that there is not information for customers that start with M (Merchants).\n",
        "\n",
        "* isFraud - This is the transactions made by the fraudulent agents inside the simulation. In this specific dataset the fraudulent behavior of the agents aims to profit by taking control or customers accounts and try to empty the funds by transferring to another account and then cashing out of the system.\n",
        "\n",
        "* isFlaggedFraud - The business model aims to control massive transfers from one account to another and flags illegal attempts. An illegal attempt in this dataset is an attempt to transfer more than 200.000 in a single transaction."
      ]
    },
    {
      "cell_type": "markdown",
      "metadata": {
        "id": "fiY1HiHJ18q-",
        "colab_type": "text"
      },
      "source": [
        "## Import do dataset\n",
        "\n"
      ]
    },
    {
      "cell_type": "code",
      "metadata": {
        "id": "bjsp5KwJiwS8",
        "colab_type": "code",
        "colab": {}
      },
      "source": [
        "#importando algumas libs\n",
        "import pandas as pd\n",
        "import numpy as np\n",
        "import matplotlib.pyplot as plt\n",
        "%matplotlib inline\n",
        "import matplotlib.cm as cm\n",
        "from random import seed,sample\n",
        "from sklearn.model_selection import train_test_split\n",
        "from sklearn.preprocessing import StandardScaler\n",
        "from sklearn.neural_network import MLPClassifier\n",
        "from sklearn.metrics import classification_report,confusion_matrix,accuracy_score, roc_curve, auc,\\\n",
        "precision_score\n",
        "from sklearn.ensemble import RandomForestClassifier\n",
        "from xgboost.sklearn import XGBClassifier\n",
        "import seaborn as sns\n",
        "import time"
      ],
      "execution_count": 0,
      "outputs": []
    },
    {
      "cell_type": "code",
      "metadata": {
        "id": "cn0P__dQ4zYH",
        "colab_type": "code",
        "outputId": "3ab008a4-2599-405c-81f8-e381e481a32e",
        "colab": {
          "base_uri": "https://localhost:8080/",
          "height": 424
        }
      },
      "source": [
        "#importando dados do DropBox\n",
        "pd.set_option('display.max_columns', 20)\n",
        "!wget 'https://www.dropbox.com/s/2f2ex1g5gvug9rg/PS_20174392719_1491204439457_log.csv?dl=0'\n",
        "df = pd.read_csv('PS_20174392719_1491204439457_log.csv?dl=0')"
      ],
      "execution_count": 0,
      "outputs": [
        {
          "output_type": "stream",
          "text": [
            "--2020-05-26 00:01:59--  https://www.dropbox.com/s/2f2ex1g5gvug9rg/PS_20174392719_1491204439457_log.csv?dl=0\n",
            "Resolving www.dropbox.com (www.dropbox.com)... 162.125.8.1, 2620:100:601b:1::a27d:801\n",
            "Connecting to www.dropbox.com (www.dropbox.com)|162.125.8.1|:443... connected.\n",
            "HTTP request sent, awaiting response... 301 Moved Permanently\n",
            "Location: /s/raw/2f2ex1g5gvug9rg/PS_20174392719_1491204439457_log.csv [following]\n",
            "--2020-05-26 00:02:00--  https://www.dropbox.com/s/raw/2f2ex1g5gvug9rg/PS_20174392719_1491204439457_log.csv\n",
            "Reusing existing connection to www.dropbox.com:443.\n",
            "HTTP request sent, awaiting response... 302 Found\n",
            "Location: https://uc4d8093f68da786117360e3034d.dl.dropboxusercontent.com/cd/0/inline/A4Y6iVTP5Tz6hFhpegrj6L3IAukYNnWWNLJj0hWzMqbjHHb4tcFWqF-MIs_P9uxRfN-0tCsNL84f72L-o6NE3zv_T-mxyRtV_2GZ73UzHVerzmKO2fXdhVFWWWuCCJ8UpAk/file# [following]\n",
            "--2020-05-26 00:02:00--  https://uc4d8093f68da786117360e3034d.dl.dropboxusercontent.com/cd/0/inline/A4Y6iVTP5Tz6hFhpegrj6L3IAukYNnWWNLJj0hWzMqbjHHb4tcFWqF-MIs_P9uxRfN-0tCsNL84f72L-o6NE3zv_T-mxyRtV_2GZ73UzHVerzmKO2fXdhVFWWWuCCJ8UpAk/file\n",
            "Resolving uc4d8093f68da786117360e3034d.dl.dropboxusercontent.com (uc4d8093f68da786117360e3034d.dl.dropboxusercontent.com)... 162.125.8.6, 2620:100:601b:6::a27d:806\n",
            "Connecting to uc4d8093f68da786117360e3034d.dl.dropboxusercontent.com (uc4d8093f68da786117360e3034d.dl.dropboxusercontent.com)|162.125.8.6|:443... connected.\n",
            "HTTP request sent, awaiting response... 200 OK\n",
            "Length: 493534783 (471M) [text/plain]\n",
            "Saving to: ‘PS_20174392719_1491204439457_log.csv?dl=0.2’\n",
            "\n",
            "PS_20174392719_1491 100%[===================>] 470.67M  44.7MB/s    in 12s     \n",
            "\n",
            "2020-05-26 00:02:13 (38.1 MB/s) - ‘PS_20174392719_1491204439457_log.csv?dl=0.2’ saved [493534783/493534783]\n",
            "\n"
          ],
          "name": "stdout"
        }
      ]
    },
    {
      "cell_type": "markdown",
      "metadata": {
        "id": "LPPo361-2SNL",
        "colab_type": "text"
      },
      "source": [
        "# Resumo dos dados"
      ]
    },
    {
      "cell_type": "code",
      "metadata": {
        "id": "kS01OSJ36B3S",
        "colab_type": "code",
        "outputId": "4a64c7ee-781e-4828-ad76-308f8461bc17",
        "colab": {
          "base_uri": "https://localhost:8080/",
          "height": 363
        }
      },
      "source": [
        "  df.head(10)"
      ],
      "execution_count": 0,
      "outputs": [
        {
          "output_type": "execute_result",
          "data": {
            "text/html": [
              "<div>\n",
              "<style scoped>\n",
              "    .dataframe tbody tr th:only-of-type {\n",
              "        vertical-align: middle;\n",
              "    }\n",
              "\n",
              "    .dataframe tbody tr th {\n",
              "        vertical-align: top;\n",
              "    }\n",
              "\n",
              "    .dataframe thead th {\n",
              "        text-align: right;\n",
              "    }\n",
              "</style>\n",
              "<table border=\"1\" class=\"dataframe\">\n",
              "  <thead>\n",
              "    <tr style=\"text-align: right;\">\n",
              "      <th></th>\n",
              "      <th>step</th>\n",
              "      <th>type</th>\n",
              "      <th>amount</th>\n",
              "      <th>nameOrig</th>\n",
              "      <th>oldbalanceOrg</th>\n",
              "      <th>newbalanceOrig</th>\n",
              "      <th>nameDest</th>\n",
              "      <th>oldbalanceDest</th>\n",
              "      <th>newbalanceDest</th>\n",
              "      <th>isFraud</th>\n",
              "      <th>isFlaggedFraud</th>\n",
              "    </tr>\n",
              "  </thead>\n",
              "  <tbody>\n",
              "    <tr>\n",
              "      <th>0</th>\n",
              "      <td>1</td>\n",
              "      <td>PAYMENT</td>\n",
              "      <td>9839.64</td>\n",
              "      <td>C1231006815</td>\n",
              "      <td>170136.00</td>\n",
              "      <td>160296.36</td>\n",
              "      <td>M1979787155</td>\n",
              "      <td>0.0</td>\n",
              "      <td>0.00</td>\n",
              "      <td>0</td>\n",
              "      <td>0</td>\n",
              "    </tr>\n",
              "    <tr>\n",
              "      <th>1</th>\n",
              "      <td>1</td>\n",
              "      <td>PAYMENT</td>\n",
              "      <td>1864.28</td>\n",
              "      <td>C1666544295</td>\n",
              "      <td>21249.00</td>\n",
              "      <td>19384.72</td>\n",
              "      <td>M2044282225</td>\n",
              "      <td>0.0</td>\n",
              "      <td>0.00</td>\n",
              "      <td>0</td>\n",
              "      <td>0</td>\n",
              "    </tr>\n",
              "    <tr>\n",
              "      <th>2</th>\n",
              "      <td>1</td>\n",
              "      <td>TRANSFER</td>\n",
              "      <td>181.00</td>\n",
              "      <td>C1305486145</td>\n",
              "      <td>181.00</td>\n",
              "      <td>0.00</td>\n",
              "      <td>C553264065</td>\n",
              "      <td>0.0</td>\n",
              "      <td>0.00</td>\n",
              "      <td>1</td>\n",
              "      <td>0</td>\n",
              "    </tr>\n",
              "    <tr>\n",
              "      <th>3</th>\n",
              "      <td>1</td>\n",
              "      <td>CASH_OUT</td>\n",
              "      <td>181.00</td>\n",
              "      <td>C840083671</td>\n",
              "      <td>181.00</td>\n",
              "      <td>0.00</td>\n",
              "      <td>C38997010</td>\n",
              "      <td>21182.0</td>\n",
              "      <td>0.00</td>\n",
              "      <td>1</td>\n",
              "      <td>0</td>\n",
              "    </tr>\n",
              "    <tr>\n",
              "      <th>4</th>\n",
              "      <td>1</td>\n",
              "      <td>PAYMENT</td>\n",
              "      <td>11668.14</td>\n",
              "      <td>C2048537720</td>\n",
              "      <td>41554.00</td>\n",
              "      <td>29885.86</td>\n",
              "      <td>M1230701703</td>\n",
              "      <td>0.0</td>\n",
              "      <td>0.00</td>\n",
              "      <td>0</td>\n",
              "      <td>0</td>\n",
              "    </tr>\n",
              "    <tr>\n",
              "      <th>5</th>\n",
              "      <td>1</td>\n",
              "      <td>PAYMENT</td>\n",
              "      <td>7817.71</td>\n",
              "      <td>C90045638</td>\n",
              "      <td>53860.00</td>\n",
              "      <td>46042.29</td>\n",
              "      <td>M573487274</td>\n",
              "      <td>0.0</td>\n",
              "      <td>0.00</td>\n",
              "      <td>0</td>\n",
              "      <td>0</td>\n",
              "    </tr>\n",
              "    <tr>\n",
              "      <th>6</th>\n",
              "      <td>1</td>\n",
              "      <td>PAYMENT</td>\n",
              "      <td>7107.77</td>\n",
              "      <td>C154988899</td>\n",
              "      <td>183195.00</td>\n",
              "      <td>176087.23</td>\n",
              "      <td>M408069119</td>\n",
              "      <td>0.0</td>\n",
              "      <td>0.00</td>\n",
              "      <td>0</td>\n",
              "      <td>0</td>\n",
              "    </tr>\n",
              "    <tr>\n",
              "      <th>7</th>\n",
              "      <td>1</td>\n",
              "      <td>PAYMENT</td>\n",
              "      <td>7861.64</td>\n",
              "      <td>C1912850431</td>\n",
              "      <td>176087.23</td>\n",
              "      <td>168225.59</td>\n",
              "      <td>M633326333</td>\n",
              "      <td>0.0</td>\n",
              "      <td>0.00</td>\n",
              "      <td>0</td>\n",
              "      <td>0</td>\n",
              "    </tr>\n",
              "    <tr>\n",
              "      <th>8</th>\n",
              "      <td>1</td>\n",
              "      <td>PAYMENT</td>\n",
              "      <td>4024.36</td>\n",
              "      <td>C1265012928</td>\n",
              "      <td>2671.00</td>\n",
              "      <td>0.00</td>\n",
              "      <td>M1176932104</td>\n",
              "      <td>0.0</td>\n",
              "      <td>0.00</td>\n",
              "      <td>0</td>\n",
              "      <td>0</td>\n",
              "    </tr>\n",
              "    <tr>\n",
              "      <th>9</th>\n",
              "      <td>1</td>\n",
              "      <td>DEBIT</td>\n",
              "      <td>5337.77</td>\n",
              "      <td>C712410124</td>\n",
              "      <td>41720.00</td>\n",
              "      <td>36382.23</td>\n",
              "      <td>C195600860</td>\n",
              "      <td>41898.0</td>\n",
              "      <td>40348.79</td>\n",
              "      <td>0</td>\n",
              "      <td>0</td>\n",
              "    </tr>\n",
              "  </tbody>\n",
              "</table>\n",
              "</div>"
            ],
            "text/plain": [
              "   step      type    amount     nameOrig  oldbalanceOrg  newbalanceOrig  \\\n",
              "0     1   PAYMENT   9839.64  C1231006815      170136.00       160296.36   \n",
              "1     1   PAYMENT   1864.28  C1666544295       21249.00        19384.72   \n",
              "2     1  TRANSFER    181.00  C1305486145         181.00            0.00   \n",
              "3     1  CASH_OUT    181.00   C840083671         181.00            0.00   \n",
              "4     1   PAYMENT  11668.14  C2048537720       41554.00        29885.86   \n",
              "5     1   PAYMENT   7817.71    C90045638       53860.00        46042.29   \n",
              "6     1   PAYMENT   7107.77   C154988899      183195.00       176087.23   \n",
              "7     1   PAYMENT   7861.64  C1912850431      176087.23       168225.59   \n",
              "8     1   PAYMENT   4024.36  C1265012928        2671.00            0.00   \n",
              "9     1     DEBIT   5337.77   C712410124       41720.00        36382.23   \n",
              "\n",
              "      nameDest  oldbalanceDest  newbalanceDest  isFraud  isFlaggedFraud  \n",
              "0  M1979787155             0.0            0.00        0               0  \n",
              "1  M2044282225             0.0            0.00        0               0  \n",
              "2   C553264065             0.0            0.00        1               0  \n",
              "3    C38997010         21182.0            0.00        1               0  \n",
              "4  M1230701703             0.0            0.00        0               0  \n",
              "5   M573487274             0.0            0.00        0               0  \n",
              "6   M408069119             0.0            0.00        0               0  \n",
              "7   M633326333             0.0            0.00        0               0  \n",
              "8  M1176932104             0.0            0.00        0               0  \n",
              "9   C195600860         41898.0        40348.79        0               0  "
            ]
          },
          "metadata": {
            "tags": []
          },
          "execution_count": 129
        }
      ]
    },
    {
      "cell_type": "code",
      "metadata": {
        "id": "yQTcwRyei_bt",
        "colab_type": "code",
        "outputId": "9c0cfd5c-dd19-4766-b47f-2ede23c1d66d",
        "colab": {
          "base_uri": "https://localhost:8080/",
          "height": 300
        }
      },
      "source": [
        "df.describe()"
      ],
      "execution_count": 0,
      "outputs": [
        {
          "output_type": "execute_result",
          "data": {
            "text/html": [
              "<div>\n",
              "<style scoped>\n",
              "    .dataframe tbody tr th:only-of-type {\n",
              "        vertical-align: middle;\n",
              "    }\n",
              "\n",
              "    .dataframe tbody tr th {\n",
              "        vertical-align: top;\n",
              "    }\n",
              "\n",
              "    .dataframe thead th {\n",
              "        text-align: right;\n",
              "    }\n",
              "</style>\n",
              "<table border=\"1\" class=\"dataframe\">\n",
              "  <thead>\n",
              "    <tr style=\"text-align: right;\">\n",
              "      <th></th>\n",
              "      <th>step</th>\n",
              "      <th>amount</th>\n",
              "      <th>oldbalanceOrg</th>\n",
              "      <th>newbalanceOrig</th>\n",
              "      <th>oldbalanceDest</th>\n",
              "      <th>newbalanceDest</th>\n",
              "      <th>isFraud</th>\n",
              "      <th>isFlaggedFraud</th>\n",
              "    </tr>\n",
              "  </thead>\n",
              "  <tbody>\n",
              "    <tr>\n",
              "      <th>count</th>\n",
              "      <td>6.362620e+06</td>\n",
              "      <td>6.362620e+06</td>\n",
              "      <td>6.362620e+06</td>\n",
              "      <td>6.362620e+06</td>\n",
              "      <td>6.362620e+06</td>\n",
              "      <td>6.362620e+06</td>\n",
              "      <td>6.362620e+06</td>\n",
              "      <td>6.362620e+06</td>\n",
              "    </tr>\n",
              "    <tr>\n",
              "      <th>mean</th>\n",
              "      <td>2.433972e+02</td>\n",
              "      <td>1.798619e+05</td>\n",
              "      <td>8.338831e+05</td>\n",
              "      <td>8.551137e+05</td>\n",
              "      <td>1.100702e+06</td>\n",
              "      <td>1.224996e+06</td>\n",
              "      <td>1.290820e-03</td>\n",
              "      <td>2.514687e-06</td>\n",
              "    </tr>\n",
              "    <tr>\n",
              "      <th>std</th>\n",
              "      <td>1.423320e+02</td>\n",
              "      <td>6.038582e+05</td>\n",
              "      <td>2.888243e+06</td>\n",
              "      <td>2.924049e+06</td>\n",
              "      <td>3.399180e+06</td>\n",
              "      <td>3.674129e+06</td>\n",
              "      <td>3.590480e-02</td>\n",
              "      <td>1.585775e-03</td>\n",
              "    </tr>\n",
              "    <tr>\n",
              "      <th>min</th>\n",
              "      <td>1.000000e+00</td>\n",
              "      <td>0.000000e+00</td>\n",
              "      <td>0.000000e+00</td>\n",
              "      <td>0.000000e+00</td>\n",
              "      <td>0.000000e+00</td>\n",
              "      <td>0.000000e+00</td>\n",
              "      <td>0.000000e+00</td>\n",
              "      <td>0.000000e+00</td>\n",
              "    </tr>\n",
              "    <tr>\n",
              "      <th>25%</th>\n",
              "      <td>1.560000e+02</td>\n",
              "      <td>1.338957e+04</td>\n",
              "      <td>0.000000e+00</td>\n",
              "      <td>0.000000e+00</td>\n",
              "      <td>0.000000e+00</td>\n",
              "      <td>0.000000e+00</td>\n",
              "      <td>0.000000e+00</td>\n",
              "      <td>0.000000e+00</td>\n",
              "    </tr>\n",
              "    <tr>\n",
              "      <th>50%</th>\n",
              "      <td>2.390000e+02</td>\n",
              "      <td>7.487194e+04</td>\n",
              "      <td>1.420800e+04</td>\n",
              "      <td>0.000000e+00</td>\n",
              "      <td>1.327057e+05</td>\n",
              "      <td>2.146614e+05</td>\n",
              "      <td>0.000000e+00</td>\n",
              "      <td>0.000000e+00</td>\n",
              "    </tr>\n",
              "    <tr>\n",
              "      <th>75%</th>\n",
              "      <td>3.350000e+02</td>\n",
              "      <td>2.087215e+05</td>\n",
              "      <td>1.073152e+05</td>\n",
              "      <td>1.442584e+05</td>\n",
              "      <td>9.430367e+05</td>\n",
              "      <td>1.111909e+06</td>\n",
              "      <td>0.000000e+00</td>\n",
              "      <td>0.000000e+00</td>\n",
              "    </tr>\n",
              "    <tr>\n",
              "      <th>max</th>\n",
              "      <td>7.430000e+02</td>\n",
              "      <td>9.244552e+07</td>\n",
              "      <td>5.958504e+07</td>\n",
              "      <td>4.958504e+07</td>\n",
              "      <td>3.560159e+08</td>\n",
              "      <td>3.561793e+08</td>\n",
              "      <td>1.000000e+00</td>\n",
              "      <td>1.000000e+00</td>\n",
              "    </tr>\n",
              "  </tbody>\n",
              "</table>\n",
              "</div>"
            ],
            "text/plain": [
              "               step        amount  oldbalanceOrg  newbalanceOrig  \\\n",
              "count  6.362620e+06  6.362620e+06   6.362620e+06    6.362620e+06   \n",
              "mean   2.433972e+02  1.798619e+05   8.338831e+05    8.551137e+05   \n",
              "std    1.423320e+02  6.038582e+05   2.888243e+06    2.924049e+06   \n",
              "min    1.000000e+00  0.000000e+00   0.000000e+00    0.000000e+00   \n",
              "25%    1.560000e+02  1.338957e+04   0.000000e+00    0.000000e+00   \n",
              "50%    2.390000e+02  7.487194e+04   1.420800e+04    0.000000e+00   \n",
              "75%    3.350000e+02  2.087215e+05   1.073152e+05    1.442584e+05   \n",
              "max    7.430000e+02  9.244552e+07   5.958504e+07    4.958504e+07   \n",
              "\n",
              "       oldbalanceDest  newbalanceDest       isFraud  isFlaggedFraud  \n",
              "count    6.362620e+06    6.362620e+06  6.362620e+06    6.362620e+06  \n",
              "mean     1.100702e+06    1.224996e+06  1.290820e-03    2.514687e-06  \n",
              "std      3.399180e+06    3.674129e+06  3.590480e-02    1.585775e-03  \n",
              "min      0.000000e+00    0.000000e+00  0.000000e+00    0.000000e+00  \n",
              "25%      0.000000e+00    0.000000e+00  0.000000e+00    0.000000e+00  \n",
              "50%      1.327057e+05    2.146614e+05  0.000000e+00    0.000000e+00  \n",
              "75%      9.430367e+05    1.111909e+06  0.000000e+00    0.000000e+00  \n",
              "max      3.560159e+08    3.561793e+08  1.000000e+00    1.000000e+00  "
            ]
          },
          "metadata": {
            "tags": []
          },
          "execution_count": 130
        }
      ]
    },
    {
      "cell_type": "code",
      "metadata": {
        "id": "iqjiqYXEjcWj",
        "colab_type": "code",
        "outputId": "aed79a8c-95db-4cdb-dda4-9916ff263d22",
        "colab": {
          "base_uri": "https://localhost:8080/",
          "height": 36
        }
      },
      "source": [
        "df.shape"
      ],
      "execution_count": 0,
      "outputs": [
        {
          "output_type": "execute_result",
          "data": {
            "text/plain": [
              "(6362620, 11)"
            ]
          },
          "metadata": {
            "tags": []
          },
          "execution_count": 131
        }
      ]
    },
    {
      "cell_type": "markdown",
      "metadata": {
        "id": "P6oYlUi-3JPy",
        "colab_type": "text"
      },
      "source": [
        "### Explicando cada coluna e seus dados\n",
        "\n",
        "Ao executar o _info_, conseguimos visualizar"
      ]
    },
    {
      "cell_type": "code",
      "metadata": {
        "id": "Ao8b-3Ls6pcL",
        "colab_type": "code",
        "outputId": "b18a04b3-bc6e-4b05-8b45-880026fc2d1e",
        "colab": {
          "base_uri": "https://localhost:8080/",
          "height": 385
        }
      },
      "source": [
        "print(df.info())"
      ],
      "execution_count": 0,
      "outputs": [
        {
          "output_type": "stream",
          "text": [
            "<class 'pandas.core.frame.DataFrame'>\n",
            "RangeIndex: 6362620 entries, 0 to 6362619\n",
            "Data columns (total 11 columns):\n",
            " #   Column          Dtype  \n",
            "---  ------          -----  \n",
            " 0   step            int64  \n",
            " 1   type            object \n",
            " 2   amount          float64\n",
            " 3   nameOrig        object \n",
            " 4   oldbalanceOrg   float64\n",
            " 5   newbalanceOrig  float64\n",
            " 6   nameDest        object \n",
            " 7   oldbalanceDest  float64\n",
            " 8   newbalanceDest  float64\n",
            " 9   isFraud         int64  \n",
            " 10  isFlaggedFraud  int64  \n",
            "dtypes: float64(5), int64(3), object(3)\n",
            "memory usage: 534.0+ MB\n",
            "None\n"
          ],
          "name": "stdout"
        }
      ]
    },
    {
      "cell_type": "code",
      "metadata": {
        "id": "BdnmuIqCc6nK",
        "colab_type": "code",
        "outputId": "a0d80d2f-7bfd-494d-bbde-969179fb97fe",
        "colab": {
          "base_uri": "https://localhost:8080/",
          "height": 81
        }
      },
      "source": [
        "# renomeando oldbalanceOrg, newbalanceOrig, oldbalanceDest, newbalanceDest\n",
        "df = df.rename(columns={'oldbalanceOrg':'oldBalanceOrig', 'newbalanceOrig':'newBalanceOrig', 'oldbalanceDest':'oldBalanceDest', 'newbalanceDest':'newBalanceDest'})\n",
        "df.head(1)"
      ],
      "execution_count": 0,
      "outputs": [
        {
          "output_type": "execute_result",
          "data": {
            "text/html": [
              "<div>\n",
              "<style scoped>\n",
              "    .dataframe tbody tr th:only-of-type {\n",
              "        vertical-align: middle;\n",
              "    }\n",
              "\n",
              "    .dataframe tbody tr th {\n",
              "        vertical-align: top;\n",
              "    }\n",
              "\n",
              "    .dataframe thead th {\n",
              "        text-align: right;\n",
              "    }\n",
              "</style>\n",
              "<table border=\"1\" class=\"dataframe\">\n",
              "  <thead>\n",
              "    <tr style=\"text-align: right;\">\n",
              "      <th></th>\n",
              "      <th>step</th>\n",
              "      <th>type</th>\n",
              "      <th>amount</th>\n",
              "      <th>nameOrig</th>\n",
              "      <th>oldBalanceOrig</th>\n",
              "      <th>newBalanceOrig</th>\n",
              "      <th>nameDest</th>\n",
              "      <th>oldBalanceDest</th>\n",
              "      <th>newBalanceDest</th>\n",
              "      <th>isFraud</th>\n",
              "      <th>isFlaggedFraud</th>\n",
              "    </tr>\n",
              "  </thead>\n",
              "  <tbody>\n",
              "    <tr>\n",
              "      <th>0</th>\n",
              "      <td>1</td>\n",
              "      <td>PAYMENT</td>\n",
              "      <td>9839.64</td>\n",
              "      <td>C1231006815</td>\n",
              "      <td>170136.0</td>\n",
              "      <td>160296.36</td>\n",
              "      <td>M1979787155</td>\n",
              "      <td>0.0</td>\n",
              "      <td>0.0</td>\n",
              "      <td>0</td>\n",
              "      <td>0</td>\n",
              "    </tr>\n",
              "  </tbody>\n",
              "</table>\n",
              "</div>"
            ],
            "text/plain": [
              "   step     type   amount     nameOrig  oldBalanceOrig  newBalanceOrig  \\\n",
              "0     1  PAYMENT  9839.64  C1231006815        170136.0       160296.36   \n",
              "\n",
              "      nameDest  oldBalanceDest  newBalanceDest  isFraud  isFlaggedFraud  \n",
              "0  M1979787155             0.0             0.0        0               0  "
            ]
          },
          "metadata": {
            "tags": []
          },
          "execution_count": 133
        }
      ]
    },
    {
      "cell_type": "code",
      "metadata": {
        "id": "oQed-GoOfZJm",
        "colab_type": "code",
        "outputId": "bfb37699-3fc1-48a8-f8a2-1f2c25a85c40",
        "colab": {
          "base_uri": "https://localhost:8080/",
          "height": 249
        }
      },
      "source": [
        "# verificando se existem valores nulos no dataset\n",
        "df.isna().values.any()\n",
        "df.isna().sum(0).sort_values(ascending = False)"
      ],
      "execution_count": 0,
      "outputs": [
        {
          "output_type": "execute_result",
          "data": {
            "text/plain": [
              "isFlaggedFraud    0\n",
              "isFraud           0\n",
              "newBalanceDest    0\n",
              "oldBalanceDest    0\n",
              "nameDest          0\n",
              "newBalanceOrig    0\n",
              "oldBalanceOrig    0\n",
              "nameOrig          0\n",
              "amount            0\n",
              "type              0\n",
              "step              0\n",
              "dtype: int64"
            ]
          },
          "metadata": {
            "tags": []
          },
          "execution_count": 134
        }
      ]
    },
    {
      "cell_type": "markdown",
      "metadata": {
        "id": "zMdLUlB93axb",
        "colab_type": "text"
      },
      "source": [
        "### Categorizando os tipos de contas\n",
        "- Aqui farei uma categorização de quem para quem foi a trasação. Por exemplo:\n",
        "CC (Customer to Customer), CM (Customer to Merchant), MC (Merchant to Customer), MM (Merchant to Merchant)"
      ]
    },
    {
      "cell_type": "code",
      "metadata": {
        "id": "xe-x_ATY3aKF",
        "colab_type": "code",
        "colab": {}
      },
      "source": [
        "# realiza uma cópia do dataframe\n",
        "newDf = df.copy()\n",
        "newDf[\"accountTransactionType\"] = np.nan\n",
        "newDf.loc[df.nameOrig.str.contains('C') & df.nameDest.str.contains('C'), \"accountTransactionType\"] = \"CC\"\n",
        "newDf.loc[df.nameOrig.str.contains('C') & df.nameDest.str.contains('M'), \"accountTransactionType\"] = \"CM\"\n",
        "newDf.loc[df.nameOrig.str.contains('M') & df.nameDest.str.contains('C'), \"accountTransactionType\"] = \"MC\"\n",
        "newDf.loc[df.nameOrig.str.contains('M') & df.nameDest.str.contains('M'), \"accountTransactionType\"] = \"MM\""
      ],
      "execution_count": 0,
      "outputs": []
    },
    {
      "cell_type": "code",
      "metadata": {
        "id": "N5uG0LSS6Gx0",
        "colab_type": "code",
        "colab": {}
      },
      "source": [
        "fraud = newDf[newDf[\"isFraud\"] == 1]\n",
        "genuine = newDf[newDf[\"isFraud\"] == 0]"
      ],
      "execution_count": 0,
      "outputs": []
    },
    {
      "cell_type": "code",
      "metadata": {
        "id": "1ZAcGYNL-VIu",
        "colab_type": "code",
        "outputId": "484d6df8-0e4b-40e9-be52-329e958ab332",
        "colab": {
          "base_uri": "https://localhost:8080/",
          "height": 153
        }
      },
      "source": [
        "# número de transações fraudulentas e genuínas por accountTransactionType\n",
        "print(f\"Número de transações fraudulentas: \\n {fraud.accountTransactionType.value_counts()}\")\n",
        "print(f\"Número de transações genuínas: \\n {genuine.accountTransactionType.value_counts()}\")"
      ],
      "execution_count": 0,
      "outputs": [
        {
          "output_type": "stream",
          "text": [
            "Número de transações fraudulentas: \n",
            " CC    8213\n",
            "Name: accountTransactionType, dtype: int64\n",
            "Número de transações genuínas: \n",
            " CC    4202912\n",
            "CM    2151495\n",
            "Name: accountTransactionType, dtype: int64\n"
          ],
          "name": "stdout"
        }
      ]
    },
    {
      "cell_type": "markdown",
      "metadata": {
        "id": "lR_87Em2_cXP",
        "colab_type": "text"
      },
      "source": [
        "Com a análise acima, percebe-se um certo padrão de que as transações fraudulentas são feitas apenas em transações 'Customer to Customer'.\n",
        "Já que não precisaremos mais desta colunas, as eliminarei"
      ]
    },
    {
      "cell_type": "code",
      "metadata": {
        "id": "7kEaNOKkAn8Y",
        "colab_type": "code",
        "colab": {}
      },
      "source": [
        "fraud = fraud.drop(\"accountTransactionType\", 1)\n",
        "genuine = genuine.drop(\"accountTransactionType\", 1)\n",
        "newDf = newDf.drop(\"accountTransactionType\", 1)"
      ],
      "execution_count": 0,
      "outputs": []
    },
    {
      "cell_type": "markdown",
      "metadata": {
        "id": "7Xm9r4P5GECx",
        "colab_type": "text"
      },
      "source": [
        "### Tipos de transações"
      ]
    },
    {
      "cell_type": "code",
      "metadata": {
        "id": "uAzCsch_j8Hs",
        "colab_type": "code",
        "outputId": "0ca01d05-55d2-4cb0-c8cc-5f6fde9fac9c",
        "colab": {
          "base_uri": "https://localhost:8080/",
          "height": 230
        }
      },
      "source": [
        "print(f\"Tipos de transações fraudulentas: \\n{fraud.type.value_counts()}\")\n",
        "print(f\"Tipos de transações genuínas: \\n{genuine.type.value_counts()}\")"
      ],
      "execution_count": 0,
      "outputs": [
        {
          "output_type": "stream",
          "text": [
            "Tipos de transações fraudulentas: \n",
            "CASH_OUT    4116\n",
            "TRANSFER    4097\n",
            "Name: type, dtype: int64\n",
            "Tipos de transações genuínas: \n",
            "CASH_OUT    2233384\n",
            "PAYMENT     2151495\n",
            "CASH_IN     1399284\n",
            "TRANSFER     528812\n",
            "DEBIT         41432\n",
            "Name: type, dtype: int64\n"
          ],
          "name": "stdout"
        }
      ]
    },
    {
      "cell_type": "markdown",
      "metadata": {
        "id": "2zjnhfXnXJo2",
        "colab_type": "text"
      },
      "source": [
        "Com a análise acima, percebemos que, incluíndo que as transaçoes fraudulentas são de Customer pra Customer, os tipos de transações presentes entre elas é de CASH_OUT e TRANSFER.\n",
        "\n",
        "Das 8213 transações fraudulentas CC, 4116 são CASH_OUT e 4097 TRANSFER."
      ]
    },
    {
      "cell_type": "code",
      "metadata": {
        "id": "0VZ6QQI_YvKg",
        "colab_type": "code",
        "colab": {}
      },
      "source": [
        "# alterando os dataframes para conter apenas transações do tipo CASH_OUT e TRANSFER\n",
        "genuine = genuine[(genuine[\"type\"] == \"CASH_OUT\") | (genuine[\"type\"] == \"TRANSFER\")]\n",
        "newDf = newDf[(newDf[\"type\"] == \"CASH_OUT\") | (newDf[\"type\"] == \"TRANSFER\")]"
      ],
      "execution_count": 0,
      "outputs": []
    },
    {
      "cell_type": "markdown",
      "metadata": {
        "id": "E0_vdUyGZeWl",
        "colab_type": "text"
      },
      "source": [
        "### Saldo antes e depois da transação"
      ]
    },
    {
      "cell_type": "code",
      "metadata": {
        "id": "JemN_H5iZiwC",
        "colab_type": "code",
        "outputId": "46ab1b8b-9bea-4262-9ed4-e57c611dbc11",
        "colab": {
          "base_uri": "https://localhost:8080/",
          "height": 56
        }
      },
      "source": [
        "wrongOrigBalance = sum(df.oldBalanceOrig - df.amount != df.newBalanceOrig)\n",
        "wrongDestBalance = sum(df.newBalanceDest + df.amount != df.newBalanceDest)\n",
        "print(f\"Porcentagem de saldos errados para pessoas que fizeram a transação: {100*round(wrongOrigBalance/len(df),2)}\")\n",
        "print(f\"Porcentagem de saldos errados para pessoas que receberam a transação: {100*round(wrongDestBalance/len(df),2)}\")"
      ],
      "execution_count": 0,
      "outputs": [
        {
          "output_type": "stream",
          "text": [
            "Porcentagem de saldos errados para pessoas que fizeram a transação: 85.0\n",
            "Porcentagem de saldos errados para pessoas que receberam a transação: 100.0\n"
          ],
          "name": "stdout"
        }
      ]
    },
    {
      "cell_type": "markdown",
      "metadata": {
        "id": "MbEP_AgFj0ph",
        "colab_type": "text"
      },
      "source": [
        "Com o trecho acima, claramente vemos que não conseguimos estimar muito bem o que acontece tanto nas contas que trasnferem quanto nas contas que recebem dinheiro."
      ]
    },
    {
      "cell_type": "code",
      "metadata": {
        "id": "0AQUInEWWBCA",
        "colab_type": "code",
        "outputId": "12eae0a6-6730-4192-ffe0-5a6d4d00a5b4",
        "colab": {
          "base_uri": "https://localhost:8080/",
          "height": 36
        }
      },
      "source": [
        "numberOfWrongBalance = (df[\"oldBalanceOrig\"] - df[\"amount\"] != df[\"newBalanceOrig\"]) | (df[\"newBalanceDest\"] + df[\"amount\"] != df[\"newBalanceDest\"])\n",
        "print(f\"Percentual de transações com o saldo errado: {100*round(sum(numberOfWrongBalance)/len(df),2)}\")"
      ],
      "execution_count": 0,
      "outputs": [
        {
          "output_type": "stream",
          "text": [
            "Percentual de transações com o saldo errado: 100.0\n"
          ],
          "name": "stdout"
        }
      ]
    },
    {
      "cell_type": "markdown",
      "metadata": {
        "id": "qKtTvRpbZBvq",
        "colab_type": "text"
      },
      "source": [
        "Com a análise feita acima, percebemos que todos os dados deste dataset apresentam um erro no saldo. Não sei o porque. Para manter a integridade, criarei duas novas colunas no dataset: _errorBalanceOrig_ e _errorBalanceDest_."
      ]
    },
    {
      "cell_type": "code",
      "metadata": {
        "id": "W8YsTiqmcA_Z",
        "colab_type": "code",
        "colab": {}
      },
      "source": [
        "newDf[\"errorBalanceOrig\"] = newDf.newBalanceOrig + newDf.amount - newDf.oldBalanceOrig\n",
        "newDf[\"errorBalanceDest\"] = newDf.oldBalanceDest + newDf.amount - newDf.newBalanceDest\n",
        "\n",
        "#inserindo dados no fraud e genuine\n",
        "fraud = newDf[newDf[\"isFraud\"] == 1]\n",
        "genuine = newDf[newDf[\"isFraud\"] == 0]"
      ],
      "execution_count": 0,
      "outputs": []
    },
    {
      "cell_type": "code",
      "metadata": {
        "id": "mk7aDxUu17jz",
        "colab_type": "code",
        "outputId": "3fde22b1-8081-40c2-f804-534ed989e52d",
        "colab": {
          "base_uri": "https://localhost:8080/",
          "height": 206
        }
      },
      "source": [
        "fraud.head()"
      ],
      "execution_count": 0,
      "outputs": [
        {
          "output_type": "execute_result",
          "data": {
            "text/html": [
              "<div>\n",
              "<style scoped>\n",
              "    .dataframe tbody tr th:only-of-type {\n",
              "        vertical-align: middle;\n",
              "    }\n",
              "\n",
              "    .dataframe tbody tr th {\n",
              "        vertical-align: top;\n",
              "    }\n",
              "\n",
              "    .dataframe thead th {\n",
              "        text-align: right;\n",
              "    }\n",
              "</style>\n",
              "<table border=\"1\" class=\"dataframe\">\n",
              "  <thead>\n",
              "    <tr style=\"text-align: right;\">\n",
              "      <th></th>\n",
              "      <th>step</th>\n",
              "      <th>type</th>\n",
              "      <th>amount</th>\n",
              "      <th>nameOrig</th>\n",
              "      <th>oldBalanceOrig</th>\n",
              "      <th>newBalanceOrig</th>\n",
              "      <th>nameDest</th>\n",
              "      <th>oldBalanceDest</th>\n",
              "      <th>newBalanceDest</th>\n",
              "      <th>isFraud</th>\n",
              "      <th>isFlaggedFraud</th>\n",
              "      <th>errorBalanceOrig</th>\n",
              "      <th>errorBalanceDest</th>\n",
              "    </tr>\n",
              "  </thead>\n",
              "  <tbody>\n",
              "    <tr>\n",
              "      <th>2</th>\n",
              "      <td>1</td>\n",
              "      <td>TRANSFER</td>\n",
              "      <td>181.0</td>\n",
              "      <td>C1305486145</td>\n",
              "      <td>181.0</td>\n",
              "      <td>0.0</td>\n",
              "      <td>C553264065</td>\n",
              "      <td>0.0</td>\n",
              "      <td>0.0</td>\n",
              "      <td>1</td>\n",
              "      <td>0</td>\n",
              "      <td>0.0</td>\n",
              "      <td>181.0</td>\n",
              "    </tr>\n",
              "    <tr>\n",
              "      <th>3</th>\n",
              "      <td>1</td>\n",
              "      <td>CASH_OUT</td>\n",
              "      <td>181.0</td>\n",
              "      <td>C840083671</td>\n",
              "      <td>181.0</td>\n",
              "      <td>0.0</td>\n",
              "      <td>C38997010</td>\n",
              "      <td>21182.0</td>\n",
              "      <td>0.0</td>\n",
              "      <td>1</td>\n",
              "      <td>0</td>\n",
              "      <td>0.0</td>\n",
              "      <td>21363.0</td>\n",
              "    </tr>\n",
              "    <tr>\n",
              "      <th>251</th>\n",
              "      <td>1</td>\n",
              "      <td>TRANSFER</td>\n",
              "      <td>2806.0</td>\n",
              "      <td>C1420196421</td>\n",
              "      <td>2806.0</td>\n",
              "      <td>0.0</td>\n",
              "      <td>C972765878</td>\n",
              "      <td>0.0</td>\n",
              "      <td>0.0</td>\n",
              "      <td>1</td>\n",
              "      <td>0</td>\n",
              "      <td>0.0</td>\n",
              "      <td>2806.0</td>\n",
              "    </tr>\n",
              "    <tr>\n",
              "      <th>252</th>\n",
              "      <td>1</td>\n",
              "      <td>CASH_OUT</td>\n",
              "      <td>2806.0</td>\n",
              "      <td>C2101527076</td>\n",
              "      <td>2806.0</td>\n",
              "      <td>0.0</td>\n",
              "      <td>C1007251739</td>\n",
              "      <td>26202.0</td>\n",
              "      <td>0.0</td>\n",
              "      <td>1</td>\n",
              "      <td>0</td>\n",
              "      <td>0.0</td>\n",
              "      <td>29008.0</td>\n",
              "    </tr>\n",
              "    <tr>\n",
              "      <th>680</th>\n",
              "      <td>1</td>\n",
              "      <td>TRANSFER</td>\n",
              "      <td>20128.0</td>\n",
              "      <td>C137533655</td>\n",
              "      <td>20128.0</td>\n",
              "      <td>0.0</td>\n",
              "      <td>C1848415041</td>\n",
              "      <td>0.0</td>\n",
              "      <td>0.0</td>\n",
              "      <td>1</td>\n",
              "      <td>0</td>\n",
              "      <td>0.0</td>\n",
              "      <td>20128.0</td>\n",
              "    </tr>\n",
              "  </tbody>\n",
              "</table>\n",
              "</div>"
            ],
            "text/plain": [
              "     step      type   amount     nameOrig  oldBalanceOrig  newBalanceOrig  \\\n",
              "2       1  TRANSFER    181.0  C1305486145           181.0             0.0   \n",
              "3       1  CASH_OUT    181.0   C840083671           181.0             0.0   \n",
              "251     1  TRANSFER   2806.0  C1420196421          2806.0             0.0   \n",
              "252     1  CASH_OUT   2806.0  C2101527076          2806.0             0.0   \n",
              "680     1  TRANSFER  20128.0   C137533655         20128.0             0.0   \n",
              "\n",
              "        nameDest  oldBalanceDest  newBalanceDest  isFraud  isFlaggedFraud  \\\n",
              "2     C553264065             0.0             0.0        1               0   \n",
              "3      C38997010         21182.0             0.0        1               0   \n",
              "251   C972765878             0.0             0.0        1               0   \n",
              "252  C1007251739         26202.0             0.0        1               0   \n",
              "680  C1848415041             0.0             0.0        1               0   \n",
              "\n",
              "     errorBalanceOrig  errorBalanceDest  \n",
              "2                 0.0             181.0  \n",
              "3                 0.0           21363.0  \n",
              "251               0.0            2806.0  \n",
              "252               0.0           29008.0  \n",
              "680               0.0           20128.0  "
            ]
          },
          "metadata": {
            "tags": []
          },
          "execution_count": 144
        }
      ]
    },
    {
      "cell_type": "code",
      "metadata": {
        "id": "8Qm93bAQdHXO",
        "colab_type": "code",
        "outputId": "573a79dc-0d15-4960-b998-3e407b564427",
        "colab": {
          "base_uri": "https://localhost:8080/",
          "height": 290
        }
      },
      "source": [
        "ax = plt.subplot()\n",
        "fplot = fraud.plot(x=\"errorBalanceOrig\",y=\"errorBalanceDest\",color=\"red\",kind=\"scatter\",ax=ax,label=\"Transações fraudulentas\")\n",
        "gplot = genuine.plot(x=\"errorBalanceOrig\",y=\"errorBalanceDest\",color=\"green\",kind=\"scatter\",alpha=0.01,ax=ax,label= \"Transações genuínas\")"
      ],
      "execution_count": 0,
      "outputs": [
        {
          "output_type": "display_data",
          "data": {
            "image/png": "[encoded data removed]",
            "text/plain": [
              "<Figure size 432x288 with 1 Axes>"
            ]
          },
          "metadata": {
            "tags": [],
            "needs_background": "light"
          }
        }
      ]
    },
    {
      "cell_type": "markdown",
      "metadata": {
        "id": "n6t037cLqRN7",
        "colab_type": "text"
      },
      "source": [
        "Com o gráfico de dispersão acima, percebemos que grande parte das transações fraudulentas ocorrem com o erroBalanceDest > 0, enquanto as transações genuinas possuem um errorBalanceDest <= 0."
      ]
    },
    {
      "cell_type": "code",
      "metadata": {
        "id": "eSZggSolsPZ9",
        "colab_type": "code",
        "outputId": "faf8ed82-d603-42a0-fd92-036c34082510",
        "colab": {
          "base_uri": "https://localhost:8080/",
          "height": 94
        }
      },
      "source": [
        "print(f\"Proporção de transações fraudulentas com errorBalanceDest > 0: {len(fraud[fraud.errorBalanceDest > 0])/len(fraud)}\")\n",
        "print(f\"Proporção de transações fraudulentas com errorBalanceOrig > 0: {len(fraud[fraud.errorBalanceOrig > 0])/len(fraud)}\")\n",
        "print(f\"Proporção de transações genuínas com errorBalanceDest > 0: {len(genuine[genuine.errorBalanceDest > 0])/len(genuine)}\")\n",
        "print(f\"Proporção de transações genuínas com errorBalanceOrig > 0: {len(genuine[genuine.errorBalanceOrig >0])/len(genuine)}\")"
      ],
      "execution_count": 0,
      "outputs": [
        {
          "output_type": "stream",
          "text": [
            "Proporção de transações fraudulentas com errorBalanceDest > 0: 0.5712894192134421\n",
            "Proporção de transações fraudulentas com errorBalanceOrig > 0: 0.006331425788384269\n",
            "Proporção de transações genuínas com errorBalanceDest > 0: 0.19744942067832985\n",
            "Proporção de transações genuínas com errorBalanceOrig > 0: 0.9067180605576143\n"
          ],
          "name": "stdout"
        }
      ]
    },
    {
      "cell_type": "markdown",
      "metadata": {
        "id": "dOg9NmGsuvl5",
        "colab_type": "text"
      },
      "source": [
        "Conclui-se que os dados que obtemos do dataset estão bem desbalanceados. Transações genuína tem mais chances de ter errorBalanceOrig > 0. \n",
        "Enquanto as transações fraudulentas tem mais chances de ter errorBalanceDest > 0.\n",
        "Estes números podem ser importantes features para o nosso modelo."
      ]
    },
    {
      "cell_type": "markdown",
      "metadata": {
        "id": "vZqNjFh4zKTD",
        "colab_type": "text"
      },
      "source": [
        "## Conferindo utilidade de nameDest e nameOrig\n",
        "\n",
        "Segundo o que a descrição do datase diz, a fraude ocorre com o seguinte comportamento:\n",
        "\n",
        "_This is the transactions made by the fraudulent agents inside the simulation. In this specific dataset the fraudulent behavior of the agents aims to profit by taking control or customers accounts and try to empty the funds by transferring to another account and then cashing out of the system._\n",
        "\n",
        "Testaremos se realmente ocorre isso"
      ]
    },
    {
      "cell_type": "code",
      "metadata": {
        "id": "w0oimr6pznCW",
        "colab_type": "code",
        "outputId": "6f85fb74-b051-4c31-f0a2-98c00bb5cda7",
        "colab": {
          "base_uri": "https://localhost:8080/",
          "height": 520
        }
      },
      "source": [
        "# como já sabemos, as transações fraudulentas são divididas entre CASH_OUT e TRANSFER. \n",
        "newDf.head(15)"
      ],
      "execution_count": 0,
      "outputs": [
        {
          "output_type": "execute_result",
          "data": {
            "text/html": [
              "<div>\n",
              "<style scoped>\n",
              "    .dataframe tbody tr th:only-of-type {\n",
              "        vertical-align: middle;\n",
              "    }\n",
              "\n",
              "    .dataframe tbody tr th {\n",
              "        vertical-align: top;\n",
              "    }\n",
              "\n",
              "    .dataframe thead th {\n",
              "        text-align: right;\n",
              "    }\n",
              "</style>\n",
              "<table border=\"1\" class=\"dataframe\">\n",
              "  <thead>\n",
              "    <tr style=\"text-align: right;\">\n",
              "      <th></th>\n",
              "      <th>step</th>\n",
              "      <th>type</th>\n",
              "      <th>amount</th>\n",
              "      <th>nameOrig</th>\n",
              "      <th>oldBalanceOrig</th>\n",
              "      <th>newBalanceOrig</th>\n",
              "      <th>nameDest</th>\n",
              "      <th>oldBalanceDest</th>\n",
              "      <th>newBalanceDest</th>\n",
              "      <th>isFraud</th>\n",
              "      <th>isFlaggedFraud</th>\n",
              "      <th>errorBalanceOrig</th>\n",
              "      <th>errorBalanceDest</th>\n",
              "    </tr>\n",
              "  </thead>\n",
              "  <tbody>\n",
              "    <tr>\n",
              "      <th>2</th>\n",
              "      <td>1</td>\n",
              "      <td>TRANSFER</td>\n",
              "      <td>181.00</td>\n",
              "      <td>C1305486145</td>\n",
              "      <td>181.00</td>\n",
              "      <td>0.00</td>\n",
              "      <td>C553264065</td>\n",
              "      <td>0.00</td>\n",
              "      <td>0.00</td>\n",
              "      <td>1</td>\n",
              "      <td>0</td>\n",
              "      <td>0.000000e+00</td>\n",
              "      <td>181.00</td>\n",
              "    </tr>\n",
              "    <tr>\n",
              "      <th>3</th>\n",
              "      <td>1</td>\n",
              "      <td>CASH_OUT</td>\n",
              "      <td>181.00</td>\n",
              "      <td>C840083671</td>\n",
              "      <td>181.00</td>\n",
              "      <td>0.00</td>\n",
              "      <td>C38997010</td>\n",
              "      <td>21182.00</td>\n",
              "      <td>0.00</td>\n",
              "      <td>1</td>\n",
              "      <td>0</td>\n",
              "      <td>0.000000e+00</td>\n",
              "      <td>21363.00</td>\n",
              "    </tr>\n",
              "    <tr>\n",
              "      <th>15</th>\n",
              "      <td>1</td>\n",
              "      <td>CASH_OUT</td>\n",
              "      <td>229133.94</td>\n",
              "      <td>C905080434</td>\n",
              "      <td>15325.00</td>\n",
              "      <td>0.00</td>\n",
              "      <td>C476402209</td>\n",
              "      <td>5083.00</td>\n",
              "      <td>51513.44</td>\n",
              "      <td>0</td>\n",
              "      <td>0</td>\n",
              "      <td>2.138089e+05</td>\n",
              "      <td>182703.50</td>\n",
              "    </tr>\n",
              "    <tr>\n",
              "      <th>19</th>\n",
              "      <td>1</td>\n",
              "      <td>TRANSFER</td>\n",
              "      <td>215310.30</td>\n",
              "      <td>C1670993182</td>\n",
              "      <td>705.00</td>\n",
              "      <td>0.00</td>\n",
              "      <td>C1100439041</td>\n",
              "      <td>22425.00</td>\n",
              "      <td>0.00</td>\n",
              "      <td>0</td>\n",
              "      <td>0</td>\n",
              "      <td>2.146053e+05</td>\n",
              "      <td>237735.30</td>\n",
              "    </tr>\n",
              "    <tr>\n",
              "      <th>24</th>\n",
              "      <td>1</td>\n",
              "      <td>TRANSFER</td>\n",
              "      <td>311685.89</td>\n",
              "      <td>C1984094095</td>\n",
              "      <td>10835.00</td>\n",
              "      <td>0.00</td>\n",
              "      <td>C932583850</td>\n",
              "      <td>6267.00</td>\n",
              "      <td>2719172.89</td>\n",
              "      <td>0</td>\n",
              "      <td>0</td>\n",
              "      <td>3.008509e+05</td>\n",
              "      <td>-2401220.00</td>\n",
              "    </tr>\n",
              "    <tr>\n",
              "      <th>42</th>\n",
              "      <td>1</td>\n",
              "      <td>CASH_OUT</td>\n",
              "      <td>110414.71</td>\n",
              "      <td>C768216420</td>\n",
              "      <td>26845.41</td>\n",
              "      <td>0.00</td>\n",
              "      <td>C1509514333</td>\n",
              "      <td>288800.00</td>\n",
              "      <td>2415.16</td>\n",
              "      <td>0</td>\n",
              "      <td>0</td>\n",
              "      <td>8.356930e+04</td>\n",
              "      <td>396799.55</td>\n",
              "    </tr>\n",
              "    <tr>\n",
              "      <th>47</th>\n",
              "      <td>1</td>\n",
              "      <td>CASH_OUT</td>\n",
              "      <td>56953.90</td>\n",
              "      <td>C1570470538</td>\n",
              "      <td>1942.02</td>\n",
              "      <td>0.00</td>\n",
              "      <td>C824009085</td>\n",
              "      <td>70253.00</td>\n",
              "      <td>64106.18</td>\n",
              "      <td>0</td>\n",
              "      <td>0</td>\n",
              "      <td>5.501188e+04</td>\n",
              "      <td>63100.72</td>\n",
              "    </tr>\n",
              "    <tr>\n",
              "      <th>48</th>\n",
              "      <td>1</td>\n",
              "      <td>CASH_OUT</td>\n",
              "      <td>5346.89</td>\n",
              "      <td>C512549200</td>\n",
              "      <td>0.00</td>\n",
              "      <td>0.00</td>\n",
              "      <td>C248609774</td>\n",
              "      <td>652637.00</td>\n",
              "      <td>6453430.91</td>\n",
              "      <td>0</td>\n",
              "      <td>0</td>\n",
              "      <td>5.346890e+03</td>\n",
              "      <td>-5795447.02</td>\n",
              "    </tr>\n",
              "    <tr>\n",
              "      <th>51</th>\n",
              "      <td>1</td>\n",
              "      <td>CASH_OUT</td>\n",
              "      <td>23261.30</td>\n",
              "      <td>C2072313080</td>\n",
              "      <td>20411.53</td>\n",
              "      <td>0.00</td>\n",
              "      <td>C2001112025</td>\n",
              "      <td>25742.00</td>\n",
              "      <td>0.00</td>\n",
              "      <td>0</td>\n",
              "      <td>0</td>\n",
              "      <td>2.849770e+03</td>\n",
              "      <td>49003.30</td>\n",
              "    </tr>\n",
              "    <tr>\n",
              "      <th>58</th>\n",
              "      <td>1</td>\n",
              "      <td>TRANSFER</td>\n",
              "      <td>62610.80</td>\n",
              "      <td>C1976401987</td>\n",
              "      <td>79114.00</td>\n",
              "      <td>16503.20</td>\n",
              "      <td>C1937962514</td>\n",
              "      <td>517.00</td>\n",
              "      <td>8383.29</td>\n",
              "      <td>0</td>\n",
              "      <td>0</td>\n",
              "      <td>0.000000e+00</td>\n",
              "      <td>54744.51</td>\n",
              "    </tr>\n",
              "    <tr>\n",
              "      <th>60</th>\n",
              "      <td>1</td>\n",
              "      <td>CASH_OUT</td>\n",
              "      <td>82940.31</td>\n",
              "      <td>C1528834618</td>\n",
              "      <td>3017.87</td>\n",
              "      <td>0.00</td>\n",
              "      <td>C476800120</td>\n",
              "      <td>132372.00</td>\n",
              "      <td>49864.36</td>\n",
              "      <td>0</td>\n",
              "      <td>0</td>\n",
              "      <td>7.992244e+04</td>\n",
              "      <td>165447.95</td>\n",
              "    </tr>\n",
              "    <tr>\n",
              "      <th>70</th>\n",
              "      <td>1</td>\n",
              "      <td>CASH_OUT</td>\n",
              "      <td>47458.86</td>\n",
              "      <td>C527211736</td>\n",
              "      <td>209534.84</td>\n",
              "      <td>162075.98</td>\n",
              "      <td>C2096057945</td>\n",
              "      <td>52120.00</td>\n",
              "      <td>0.00</td>\n",
              "      <td>0</td>\n",
              "      <td>0</td>\n",
              "      <td>2.910383e-11</td>\n",
              "      <td>99578.86</td>\n",
              "    </tr>\n",
              "    <tr>\n",
              "      <th>71</th>\n",
              "      <td>1</td>\n",
              "      <td>CASH_OUT</td>\n",
              "      <td>136872.92</td>\n",
              "      <td>C1533123860</td>\n",
              "      <td>162075.98</td>\n",
              "      <td>25203.05</td>\n",
              "      <td>C766572210</td>\n",
              "      <td>217806.00</td>\n",
              "      <td>0.00</td>\n",
              "      <td>0</td>\n",
              "      <td>0</td>\n",
              "      <td>-1.000000e-02</td>\n",
              "      <td>354678.92</td>\n",
              "    </tr>\n",
              "    <tr>\n",
              "      <th>72</th>\n",
              "      <td>1</td>\n",
              "      <td>CASH_OUT</td>\n",
              "      <td>94253.33</td>\n",
              "      <td>C1718906711</td>\n",
              "      <td>25203.05</td>\n",
              "      <td>0.00</td>\n",
              "      <td>C977993101</td>\n",
              "      <td>99773.00</td>\n",
              "      <td>965870.05</td>\n",
              "      <td>0</td>\n",
              "      <td>0</td>\n",
              "      <td>6.905028e+04</td>\n",
              "      <td>-771843.72</td>\n",
              "    </tr>\n",
              "    <tr>\n",
              "      <th>78</th>\n",
              "      <td>1</td>\n",
              "      <td>TRANSFER</td>\n",
              "      <td>42712.39</td>\n",
              "      <td>C283039401</td>\n",
              "      <td>10363.39</td>\n",
              "      <td>0.00</td>\n",
              "      <td>C1330106945</td>\n",
              "      <td>57901.66</td>\n",
              "      <td>24044.18</td>\n",
              "      <td>0</td>\n",
              "      <td>0</td>\n",
              "      <td>3.234900e+04</td>\n",
              "      <td>76569.87</td>\n",
              "    </tr>\n",
              "  </tbody>\n",
              "</table>\n",
              "</div>"
            ],
            "text/plain": [
              "    step      type     amount     nameOrig  oldBalanceOrig  newBalanceOrig  \\\n",
              "2      1  TRANSFER     181.00  C1305486145          181.00            0.00   \n",
              "3      1  CASH_OUT     181.00   C840083671          181.00            0.00   \n",
              "15     1  CASH_OUT  229133.94   C905080434        15325.00            0.00   \n",
              "19     1  TRANSFER  215310.30  C1670993182          705.00            0.00   \n",
              "24     1  TRANSFER  311685.89  C1984094095        10835.00            0.00   \n",
              "42     1  CASH_OUT  110414.71   C768216420        26845.41            0.00   \n",
              "47     1  CASH_OUT   56953.90  C1570470538         1942.02            0.00   \n",
              "48     1  CASH_OUT    5346.89   C512549200            0.00            0.00   \n",
              "51     1  CASH_OUT   23261.30  C2072313080        20411.53            0.00   \n",
              "58     1  TRANSFER   62610.80  C1976401987        79114.00        16503.20   \n",
              "60     1  CASH_OUT   82940.31  C1528834618         3017.87            0.00   \n",
              "70     1  CASH_OUT   47458.86   C527211736       209534.84       162075.98   \n",
              "71     1  CASH_OUT  136872.92  C1533123860       162075.98        25203.05   \n",
              "72     1  CASH_OUT   94253.33  C1718906711        25203.05            0.00   \n",
              "78     1  TRANSFER   42712.39   C283039401        10363.39            0.00   \n",
              "\n",
              "       nameDest  oldBalanceDest  newBalanceDest  isFraud  isFlaggedFraud  \\\n",
              "2    C553264065            0.00            0.00        1               0   \n",
              "3     C38997010        21182.00            0.00        1               0   \n",
              "15   C476402209         5083.00        51513.44        0               0   \n",
              "19  C1100439041        22425.00            0.00        0               0   \n",
              "24   C932583850         6267.00      2719172.89        0               0   \n",
              "42  C1509514333       288800.00         2415.16        0               0   \n",
              "47   C824009085        70253.00        64106.18        0               0   \n",
              "48   C248609774       652637.00      6453430.91        0               0   \n",
              "51  C2001112025        25742.00            0.00        0               0   \n",
              "58  C1937962514          517.00         8383.29        0               0   \n",
              "60   C476800120       132372.00        49864.36        0               0   \n",
              "70  C2096057945        52120.00            0.00        0               0   \n",
              "71   C766572210       217806.00            0.00        0               0   \n",
              "72   C977993101        99773.00       965870.05        0               0   \n",
              "78  C1330106945        57901.66        24044.18        0               0   \n",
              "\n",
              "    errorBalanceOrig  errorBalanceDest  \n",
              "2       0.000000e+00            181.00  \n",
              "3       0.000000e+00          21363.00  \n",
              "15      2.138089e+05         182703.50  \n",
              "19      2.146053e+05         237735.30  \n",
              "24      3.008509e+05       -2401220.00  \n",
              "42      8.356930e+04         396799.55  \n",
              "47      5.501188e+04          63100.72  \n",
              "48      5.346890e+03       -5795447.02  \n",
              "51      2.849770e+03          49003.30  \n",
              "58      0.000000e+00          54744.51  \n",
              "60      7.992244e+04         165447.95  \n",
              "70      2.910383e-11          99578.86  \n",
              "71     -1.000000e-02         354678.92  \n",
              "72      6.905028e+04        -771843.72  \n",
              "78      3.234900e+04          76569.87  "
            ]
          },
          "metadata": {
            "tags": []
          },
          "execution_count": 147
        }
      ]
    },
    {
      "cell_type": "code",
      "metadata": {
        "id": "XX6x152K0YIq",
        "colab_type": "code",
        "outputId": "e39b18a7-9dcf-4a98-babc-ea2f60d6b307",
        "colab": {
          "base_uri": "https://localhost:8080/",
          "height": 36
        }
      },
      "source": [
        "fraudCashOut = fraud[fraud[\"type\"] == \"CASH_OUT\"]\n",
        "fraudTransfer = fraud[fraud[\"type\"] == \"TRANSFER\"]\n",
        "\n",
        "fraudTransfer.nameDest.isin(fraudCashOut.nameOrig).any()"
      ],
      "execution_count": 0,
      "outputs": [
        {
          "output_type": "execute_result",
          "data": {
            "text/plain": [
              "False"
            ]
          },
          "metadata": {
            "tags": []
          },
          "execution_count": 148
        }
      ]
    },
    {
      "cell_type": "markdown",
      "metadata": {
        "id": "jqFPaklE1USh",
        "colab_type": "text"
      },
      "source": [
        "Em transações fraudulentas, a conta que aparece no (nameOrig e nameDest) que recebeu a transferência não é a mesma utilizada para o saque.\n",
        "\n",
        "Sendo assim, nameOrig e nameDest não possuem muita utilidade no nosso modelo"
      ]
    },
    {
      "cell_type": "code",
      "metadata": {
        "id": "avUnK6241TL6",
        "colab_type": "code",
        "colab": {}
      },
      "source": [
        "names = [\"nameOrig\", \"nameDest\"]\n",
        "newDf = newDf.drop(names, 1)\n",
        "fraud = fraud.drop(names, 1)\n",
        "genuine = genuine.drop(names, 1)"
      ],
      "execution_count": 0,
      "outputs": []
    },
    {
      "cell_type": "markdown",
      "metadata": {
        "id": "xo154DaZIEs0",
        "colab_type": "text"
      },
      "source": [
        "## O que determina uma transação ser marcada como _isFlaggedFraud_?\n",
        "\n",
        "Segundo a descrição do dataset fornecido pelo Kaggle, uma transação é marcada como fraude quando uma transferência envolver um valor maior que 200.000."
      ]
    },
    {
      "cell_type": "code",
      "metadata": {
        "id": "yeT11eNxLvJj",
        "colab_type": "code",
        "outputId": "859d36e6-6228-4b0c-9469-6b26df98748d",
        "colab": {
          "base_uri": "https://localhost:8080/",
          "height": 133
        }
      },
      "source": [
        "countIsFlaggedFraud = df.loc[(df.isFlaggedFraud == 1)]\n",
        "print(\"O número de transações marcadas como isFlaggedFraud é: {} \".format(len(countIsFlaggedFraud)))\n",
        "\n",
        "print(\"O tipo de transações que estão flagadas com isFlaggedFraud é: {}\".format(list(df.loc[df.isFlaggedFraud == 1].type.drop_duplicates())))\n",
        "\n",
        "dfTransfer = df.loc[df.type == 'TRANSFER']\n",
        "dfFlagged = df.loc[df.isFlaggedFraud == 1]\n",
        "dfNotFlagged = df.loc[df.isFlaggedFraud == 0]\n",
        "\n",
        "print('\\nValor minimo transacionado quando a flag esta ativa: ${}'.format(dfFlagged.amount.min()))\n",
        "print('\\nValor maximo quando a flag estava inativa: ${}'.format(dfNotFlagged.amount.max()))"
      ],
      "execution_count": 0,
      "outputs": [
        {
          "output_type": "stream",
          "text": [
            "O número de transações marcadas como isFlaggedFraud é: 16 \n",
            "O tipo de transações que estão flagadas com isFlaggedFraud é: ['TRANSFER']\n",
            "\n",
            "Valor minimo transacionado quando a flag esta ativa: $353874.22\n",
            "\n",
            "Valor maximo quando a flag estava inativa: $92445516.64\n"
          ],
          "name": "stdout"
        }
      ]
    },
    {
      "cell_type": "code",
      "metadata": {
        "id": "GbrdxfPd4dOP",
        "colab_type": "code",
        "outputId": "6a911eac-c6e8-446d-c883-3a78eb12ebe8",
        "colab": {
          "base_uri": "https://localhost:8080/",
          "height": 36
        }
      },
      "source": [
        "# agora vamos ver quantas transações deveriam ser marcadas como fraude seguindo o critério passado\n",
        "shouldBeFlagged = fraud[(fraud[\"amount\"] > 200000) & (fraud[\"type\"] == \"TRANSFER\")]\n",
        "print(f\"Número de transações que deveriam ser flaggadas: {len(shouldBeFlagged)}\")"
      ],
      "execution_count": 0,
      "outputs": [
        {
          "output_type": "stream",
          "text": [
            "Número de transações que deveriam ser flaggadas: 2740\n"
          ],
          "name": "stdout"
        }
      ]
    },
    {
      "cell_type": "markdown",
      "metadata": {
        "id": "XDYBRgnMnW0c",
        "colab_type": "text"
      },
      "source": [
        "Em um dataset com mais de 2 milhoões de registros, ter apenas 16 marcados como isFlaggedFraud não faz muito sentido.\n",
        "\n",
        "Outro ponto é que há subnotificações. Há 2740 transações que deveriam ter sido marcadas, porém não foram.\n",
        "\n",
        "Por este motivo, droparei esta coluna."
      ]
    },
    {
      "cell_type": "code",
      "metadata": {
        "id": "aSbqsSIBnpDo",
        "colab_type": "code",
        "colab": {}
      },
      "source": [
        "fraud = fraud.drop(\"isFlaggedFraud\", 1)\n",
        "genuine = genuine.drop(\"isFlaggedFraud\", 1)\n",
        "newDf = newDf.drop(\"isFlaggedFraud\", 1)"
      ],
      "execution_count": 0,
      "outputs": []
    },
    {
      "cell_type": "markdown",
      "metadata": {
        "id": "g3kDI8OeAxmR",
        "colab_type": "text"
      },
      "source": [
        "# Horário das transações\n",
        "\n",
        "No dataset fornecido, temos uma unidade de medida de tempo que está no campo _step_.\n",
        "\n",
        "Neste tópico, iremos explorar uma pouco mais o step. Se fizermos uma max no step, veremos que trará um resultado de 743. Um mês completo tem aproximadamente 730 horas, ou seja, neste dataset foram registrados 1 mês e alguns dias de transações."
      ]
    },
    {
      "cell_type": "code",
      "metadata": {
        "id": "o810c3m3GGu9",
        "colab_type": "code",
        "outputId": "72f97370-1963-4399-f98f-59db160a2134",
        "colab": {
          "base_uri": "https://localhost:8080/",
          "height": 36
        }
      },
      "source": [
        "max(newDf.step)"
      ],
      "execution_count": 0,
      "outputs": [
        {
          "output_type": "execute_result",
          "data": {
            "text/plain": [
              "743"
            ]
          },
          "metadata": {
            "tags": []
          },
          "execution_count": 153
        }
      ]
    },
    {
      "cell_type": "code",
      "metadata": {
        "id": "UvafcjlNA7tY",
        "colab_type": "code",
        "outputId": "650563e0-c8fb-4448-f2f5-480b1cdb16c5",
        "colab": {
          "base_uri": "https://localhost:8080/",
          "height": 295
        }
      },
      "source": [
        "genuine.hist(column=\"step\", color=\"green\", bins=50)\n",
        "plt.xlabel(\"1 hora step\")\n",
        "plt.ylabel(\"Nro. de Transações\")\n",
        "plt.title(\"Número de transações válidas por step\")\n",
        "\n",
        "plt.show()"
      ],
      "execution_count": 0,
      "outputs": [
        {
          "output_type": "display_data",
          "data": {
            "image/png": "[encoded data removed]",
            "text/plain": [
              "<Figure size 432x288 with 1 Axes>"
            ]
          },
          "metadata": {
            "tags": [],
            "needs_background": "light"
          }
        }
      ]
    },
    {
      "cell_type": "code",
      "metadata": {
        "id": "hZxKWecODuXH",
        "colab_type": "code",
        "outputId": "08eb7560-d0e3-4db7-bef5-7994d77d021d",
        "colab": {
          "base_uri": "https://localhost:8080/",
          "height": 295
        }
      },
      "source": [
        "fraud.hist(column=\"step\", color=\"red\", bins=50)\n",
        "plt.xlabel(\"1 hora step\")\n",
        "plt.ylabel(\"Nro. de Transações\")\n",
        "plt.title(\"Número de transações fraudulentas por step\")\n",
        "\n",
        "plt.show()"
      ],
      "execution_count": 0,
      "outputs": [
        {
          "output_type": "display_data",
          "data": {
            "image/png": "[encoded data removed]",
            "text/plain": [
              "<Figure size 432x288 with 1 Axes>"
            ]
          },
          "metadata": {
            "tags": [],
            "needs_background": "light"
          }
        }
      ]
    },
    {
      "cell_type": "markdown",
      "metadata": {
        "id": "bqiTeLViMW6-",
        "colab_type": "text"
      },
      "source": [
        "Os gráficos acima nos mostram um certo comportamento:\n",
        "\n",
        "entre os steps (0,60) percebemos um certo pico, tanto de transações fraudulentas quanto de transações genuínas. Outro ponto pare se perceber é que em alguns steps não há nenhuma transação genuína, enquanto em todos os steps há algum registro de transação faudulenta.\n",
        "\n",
        "Observado o histograma de fraude, também vemos que o menor número de transações fraudulentas é de 125. Enquanto em transações genuínas houveram alguns casos em que não ocorreu nenhuma transação."
      ]
    },
    {
      "cell_type": "code",
      "metadata": {
        "id": "WXLe1MCyPVeN",
        "colab_type": "code",
        "outputId": "b82c9eb6-9b68-45a2-c973-f774ca9001ef",
        "colab": {
          "base_uri": "https://localhost:8080/",
          "height": 297
        }
      },
      "source": [
        "# horas da semana\n",
        "numDays = 7\n",
        "numHours = 24\n",
        "fraudDays = fraud.step % numDays\n",
        "fraudHours = fraud.step % numHours\n",
        "genuineDays = genuine.step % numDays\n",
        "genuineHours = genuine.step % numHours\n",
        "\n",
        "plt.subplot(1,2,1)\n",
        "fraudDays.hist(bins=numDays,color=\"red\")\n",
        "plt.xlabel(\"Dias da semanas\")\n",
        "plt.ylabel(\"Nro. de Transações\")\n",
        "plt.title(\"Transações fraudulentas p/dia\")\n",
        "\n",
        "plt.subplot(1,2,2)\n",
        "genuineDays.hist(bins=numDays,color=\"green\")\n",
        "plt.xlabel(\"Dias da semanas\")\n",
        "plt.ylabel(\"Nro. de Transações\")\n",
        "plt.title(\"Transações genuínas p/dia\")\n",
        "\n",
        "plt.tight_layout()\n",
        "\n"
      ],
      "execution_count": 0,
      "outputs": [
        {
          "output_type": "display_data",
          "data": {
            "image/png": "[encoded data removed]",
            "text/plain": [
              "<Figure size 432x288 with 2 Axes>"
            ]
          },
          "metadata": {
            "tags": [],
            "needs_background": "light"
          }
        }
      ]
    },
    {
      "cell_type": "markdown",
      "metadata": {
        "id": "EGyuCUkrohlV",
        "colab_type": "text"
      },
      "source": [
        "Pelos gráficos acima, percebemos que as transações tanto fraudulentas quanto genuínas ocorrem de maneira uniforme.\n",
        "\n",
        "Para as transações fraudulentas, percebe-se que são mais frequentes durante a semana."
      ]
    },
    {
      "cell_type": "code",
      "metadata": {
        "id": "UsF8DKq_qLFf",
        "colab_type": "code",
        "outputId": "5652a3a5-9c4c-4244-8c5a-b75b61fcf0c7",
        "colab": {
          "base_uri": "https://localhost:8080/",
          "height": 297
        }
      },
      "source": [
        "plt.subplot(1,2,1)\n",
        "fraudHours.hist(bins=numHours, color=\"red\")\n",
        "plt.xlabel(\"Horas\")\n",
        "plt.ylabel(\"Nro. de Transações\")\n",
        "plt.title(\"Transações fraudulentas por hora\")\n",
        "\n",
        "plt.subplot(1,2,2)\n",
        "genuineHours.hist(bins=numHours, color=\"green\")\n",
        "plt.xlabel(\"Horas\")\n",
        "plt.ylabel(\"Nro. de Transações\")\n",
        "plt.title(\"Transações genuínas por hora\")\n",
        "\n",
        "plt.tight_layout()"
      ],
      "execution_count": 0,
      "outputs": [
        {
          "output_type": "display_data",
          "data": {
            "image/png": "[encoded data removed]",
            "text/plain": [
              "<Figure size 432x288 with 2 Axes>"
            ]
          },
          "metadata": {
            "tags": [],
            "needs_background": "light"
          }
        }
      ]
    },
    {
      "cell_type": "markdown",
      "metadata": {
        "id": "MqI-SdQvuLBj",
        "colab_type": "text"
      },
      "source": [
        "Pelo gráfico acima percebemos que, entre 0 a 9 horas aproximadamente, enquanto as transações genuínas estão em baixa, as fraudulentas mantém o mesmo ritmo quase que do resto do dia.\n",
        "\n",
        "Desta maneira, o horário seria um grande indicador e uma boa feature para o nosso modelo."
      ]
    },
    {
      "cell_type": "code",
      "metadata": {
        "id": "VJXBQSqwwaXo",
        "colab_type": "code",
        "outputId": "1cbdebcb-bb12-4457-c8b3-8f21520a7c9e",
        "colab": {
          "base_uri": "https://localhost:8080/",
          "height": 206
        }
      },
      "source": [
        "dataset = newDf.copy()\n",
        "dataset[\"HourOfDay\"] = np.nan\n",
        "dataset.HourOfDay = newDf.step % numHours\n",
        "\n",
        "dataset.head(5)"
      ],
      "execution_count": 0,
      "outputs": [
        {
          "output_type": "execute_result",
          "data": {
            "text/html": [
              "<div>\n",
              "<style scoped>\n",
              "    .dataframe tbody tr th:only-of-type {\n",
              "        vertical-align: middle;\n",
              "    }\n",
              "\n",
              "    .dataframe tbody tr th {\n",
              "        vertical-align: top;\n",
              "    }\n",
              "\n",
              "    .dataframe thead th {\n",
              "        text-align: right;\n",
              "    }\n",
              "</style>\n",
              "<table border=\"1\" class=\"dataframe\">\n",
              "  <thead>\n",
              "    <tr style=\"text-align: right;\">\n",
              "      <th></th>\n",
              "      <th>step</th>\n",
              "      <th>type</th>\n",
              "      <th>amount</th>\n",
              "      <th>oldBalanceOrig</th>\n",
              "      <th>newBalanceOrig</th>\n",
              "      <th>oldBalanceDest</th>\n",
              "      <th>newBalanceDest</th>\n",
              "      <th>isFraud</th>\n",
              "      <th>errorBalanceOrig</th>\n",
              "      <th>errorBalanceDest</th>\n",
              "      <th>HourOfDay</th>\n",
              "    </tr>\n",
              "  </thead>\n",
              "  <tbody>\n",
              "    <tr>\n",
              "      <th>2</th>\n",
              "      <td>1</td>\n",
              "      <td>TRANSFER</td>\n",
              "      <td>181.00</td>\n",
              "      <td>181.0</td>\n",
              "      <td>0.0</td>\n",
              "      <td>0.0</td>\n",
              "      <td>0.00</td>\n",
              "      <td>1</td>\n",
              "      <td>0.00</td>\n",
              "      <td>181.0</td>\n",
              "      <td>1</td>\n",
              "    </tr>\n",
              "    <tr>\n",
              "      <th>3</th>\n",
              "      <td>1</td>\n",
              "      <td>CASH_OUT</td>\n",
              "      <td>181.00</td>\n",
              "      <td>181.0</td>\n",
              "      <td>0.0</td>\n",
              "      <td>21182.0</td>\n",
              "      <td>0.00</td>\n",
              "      <td>1</td>\n",
              "      <td>0.00</td>\n",
              "      <td>21363.0</td>\n",
              "      <td>1</td>\n",
              "    </tr>\n",
              "    <tr>\n",
              "      <th>15</th>\n",
              "      <td>1</td>\n",
              "      <td>CASH_OUT</td>\n",
              "      <td>229133.94</td>\n",
              "      <td>15325.0</td>\n",
              "      <td>0.0</td>\n",
              "      <td>5083.0</td>\n",
              "      <td>51513.44</td>\n",
              "      <td>0</td>\n",
              "      <td>213808.94</td>\n",
              "      <td>182703.5</td>\n",
              "      <td>1</td>\n",
              "    </tr>\n",
              "    <tr>\n",
              "      <th>19</th>\n",
              "      <td>1</td>\n",
              "      <td>TRANSFER</td>\n",
              "      <td>215310.30</td>\n",
              "      <td>705.0</td>\n",
              "      <td>0.0</td>\n",
              "      <td>22425.0</td>\n",
              "      <td>0.00</td>\n",
              "      <td>0</td>\n",
              "      <td>214605.30</td>\n",
              "      <td>237735.3</td>\n",
              "      <td>1</td>\n",
              "    </tr>\n",
              "    <tr>\n",
              "      <th>24</th>\n",
              "      <td>1</td>\n",
              "      <td>TRANSFER</td>\n",
              "      <td>311685.89</td>\n",
              "      <td>10835.0</td>\n",
              "      <td>0.0</td>\n",
              "      <td>6267.0</td>\n",
              "      <td>2719172.89</td>\n",
              "      <td>0</td>\n",
              "      <td>300850.89</td>\n",
              "      <td>-2401220.0</td>\n",
              "      <td>1</td>\n",
              "    </tr>\n",
              "  </tbody>\n",
              "</table>\n",
              "</div>"
            ],
            "text/plain": [
              "    step      type     amount  oldBalanceOrig  newBalanceOrig  oldBalanceDest  \\\n",
              "2      1  TRANSFER     181.00           181.0             0.0             0.0   \n",
              "3      1  CASH_OUT     181.00           181.0             0.0         21182.0   \n",
              "15     1  CASH_OUT  229133.94         15325.0             0.0          5083.0   \n",
              "19     1  TRANSFER  215310.30           705.0             0.0         22425.0   \n",
              "24     1  TRANSFER  311685.89         10835.0             0.0          6267.0   \n",
              "\n",
              "    newBalanceDest  isFraud  errorBalanceOrig  errorBalanceDest  HourOfDay  \n",
              "2             0.00        1              0.00             181.0          1  \n",
              "3             0.00        1              0.00           21363.0          1  \n",
              "15        51513.44        0         213808.94          182703.5          1  \n",
              "19            0.00        0         214605.30          237735.3          1  \n",
              "24      2719172.89        0         300850.89        -2401220.0          1  "
            ]
          },
          "metadata": {
            "tags": []
          },
          "execution_count": 158
        }
      ]
    },
    {
      "cell_type": "markdown",
      "metadata": {
        "id": "mnfSr57qjMhZ",
        "colab_type": "text"
      },
      "source": [
        "# Valores transacionados em TRANSFERs"
      ]
    },
    {
      "cell_type": "code",
      "metadata": {
        "id": "8OUCY3G4jpV5",
        "colab_type": "code",
        "outputId": "2b4db9a2-974c-47fa-b7b3-b900e5e4b016",
        "colab": {
          "base_uri": "https://localhost:8080/",
          "height": 443
        }
      },
      "source": [
        "print(f\"Infos estatísticas do valor de transações fraudulentas:\\n {fraud.amount.describe()} \\n\\n\")\n",
        "print(f\"Infos estatísticas do valor de transações genuínas:\\n {genuine.amount.describe()}\")"
      ],
      "execution_count": 0,
      "outputs": [
        {
          "output_type": "stream",
          "text": [
            "Infos estatísticas do valor de transações fraudulentas:\n",
            " count    8.213000e+03\n",
            "mean     1.467967e+06\n",
            "std      2.404253e+06\n",
            "min      0.000000e+00\n",
            "25%      1.270913e+05\n",
            "50%      4.414234e+05\n",
            "75%      1.517771e+06\n",
            "max      1.000000e+07\n",
            "Name: amount, dtype: float64 \n",
            "\n",
            "\n",
            "Infos estatísticas do valor de transações genuínas:\n",
            " count    2.762196e+06\n",
            "mean     3.141155e+05\n",
            "std      8.771441e+05\n",
            "min      1.000000e-02\n",
            "25%      8.290823e+04\n",
            "50%      1.710345e+05\n",
            "75%      3.059942e+05\n",
            "max      9.244552e+07\n",
            "Name: amount, dtype: float64\n"
          ],
          "name": "stdout"
        }
      ]
    },
    {
      "cell_type": "markdown",
      "metadata": {
        "id": "ny2Xf6DQlD5n",
        "colab_type": "text"
      },
      "source": [
        "Realizando o _describe_ acima, percebemos o seguinte:\n",
        "\n",
        "* Para transações fraudulentas, vemos que o maior valor transacionado foi no valor de 10 milhões, enquanto o maior valor de transações genuínas foi de 92.4 milhões."
      ]
    },
    {
      "cell_type": "code",
      "metadata": {
        "id": "IhH-Yuf8lDUE",
        "colab_type": "code",
        "outputId": "2ea3e0c8-0828-4c33-dd82-704adf647e0e",
        "colab": {
          "base_uri": "https://localhost:8080/",
          "height": 295
        }
      },
      "source": [
        "alpha = 0.3\n",
        "fix, ax = plt.subplots()\n",
        "genuine.plot.scatter(x=\"step\", y=\"amount\",color=\"green\", alpha=alpha, ax=ax, label=\"Transações genuínas\")\n",
        "fraud.plot.scatter(x=\"step\", y=\"amount\", color=\"red\", alpha=alpha, ax=ax, label=\"Transações fraudulentas\")\n",
        "\n",
        "plt.title(\"hora timestep x valor\")\n",
        "plt.ylabel(\"valor transacionado\")\n",
        "plt.xlabel(\"1 hora step\")\n",
        "\n",
        "plt.axhline(y=10000000)\n",
        "plt.show()"
      ],
      "execution_count": 0,
      "outputs": [
        {
          "output_type": "display_data",
          "data": {
            "image/png": "[encoded data removed]",
            "text/plain": [
              "<Figure size 432x288 with 1 Axes>"
            ]
          },
          "metadata": {
            "tags": [],
            "needs_background": "light"
          }
        }
      ]
    },
    {
      "cell_type": "code",
      "metadata": {
        "id": "uw7Fa8dCuSaK",
        "colab_type": "code",
        "outputId": "0de099f0-76ac-4d10-f582-e2c65f7a5107",
        "colab": {
          "base_uri": "https://localhost:8080/",
          "height": 36
        }
      },
      "source": [
        "print(f\"Proporção de transações em que o valor transacionado foi maior que 10.000.000: {len(newDf[newDf.amount > 10000000])/len(newDf)}\")"
      ],
      "execution_count": 0,
      "outputs": [
        {
          "output_type": "stream",
          "text": [
            "Proporção de transações em que o valor transacionado foi maior que 10.000.000: 0.0008818192548464865\n"
          ],
          "name": "stdout"
        }
      ]
    },
    {
      "cell_type": "markdown",
      "metadata": {
        "id": "IgR7hW1cu74K",
        "colab_type": "text"
      },
      "source": [
        "Como já dito anteriormente, somente em transações genuínas que temos transações com valores superiores a 10.000.000, porém, com o cálculo acima nota-se que estas transações correspondem a menos de 0,01% dos dados."
      ]
    },
    {
      "cell_type": "markdown",
      "metadata": {
        "id": "So5mwd99YctX",
        "colab_type": "text"
      },
      "source": [
        "# Etapa de Pré-Processamento\n",
        "\n",
        "Esta é a etapa em que preparamos o _dataframe_ para o modelo que usaremos.\n",
        "\n",
        "Um dos primeiros problemas que enfrentamos ao utilizar *machine learning*, é de que em determindados *datasets* temos dados categóricos. Mas o que são dados categórios?\n",
        "\n",
        "Dados categóricos, de maneira resumida, são valores *rotuláveis*, ou seja valores calssificatórios ao invés de valores numéricos. Isto é, aqueles que identificam para cada caso uma categoria.\n",
        "\n",
        "Por exemplo: a variável 'veículo' pode ser classificada como: 'carro', 'motocicleta', 'bicicleta' etc.\n",
        "\n",
        "Ok, mas qual é o problema com dados categóricos?\n",
        "\n",
        "O grande problema de dados categóricos, é que a grande maioria dos algoritmos de *machine learning* não conseguem trabalhar diretamente com este tipo de dado. Para que consiga trabalhar, o algoritmo precisa que todos os valores de entrada e saída sejam numéricos, ou seja, os dados categóricos precisam ser convertidos.\n",
        "\n",
        "## Como realizar a conversão de dados categóricos em dados númericos?\n",
        "\n",
        "Essa conversão pode ser feita utilizando as seguintes técnicas:\n",
        "\n",
        "\n",
        "*   Integer Encoding\n",
        "*   One-hot Encoding\n",
        "\n",
        "### Integer Encoding\n",
        "\n",
        "Em um primeiro passo, cada categoria única é atribuída a um valor inteiro.\n",
        "Por exemplo: \"vermelho\" recebe 1, \"verde\" recebe 2 e \"azul\" recebe 3. Como os números inteiros possuem uma relação ordenada entre si, os algoritmos de *machine learning* conseguem entender e aproveitar estes dados.\n",
        "\n",
        "### One-hot Encoding\n",
        "\n",
        "Diferentemente do que foi apresentado acima, o *one-hot encoding* transforma os dados categóricos e um vetor binário. Ou seja, \"vermelho\" ficaria [1, 0, 0], \"verde\" [0, 1, 0] e \"azul\" [0, 0, 1]. A quantidade de variáveis binárias acontece de acordo com o número de categorias a serem convertidas.\n",
        "\n",
        "No nosso caso, usaremos _one-hot_encoding_ na coluna type."
      ]
    },
    {
      "cell_type": "code",
      "metadata": {
        "id": "RkVG7ECPbFna",
        "colab_type": "code",
        "colab": {}
      },
      "source": [
        "dataset = pd.get_dummies(dataset, prefix=[\"type\"])"
      ],
      "execution_count": 0,
      "outputs": []
    },
    {
      "cell_type": "code",
      "metadata": {
        "id": "I6oF7CARbYRg",
        "colab_type": "code",
        "outputId": "5c624b6e-2c1d-4251-a7ca-ff40a5cee194",
        "colab": {
          "base_uri": "https://localhost:8080/",
          "height": 206
        }
      },
      "source": [
        "dataset.head()"
      ],
      "execution_count": 0,
      "outputs": [
        {
          "output_type": "execute_result",
          "data": {
            "text/html": [
              "<div>\n",
              "<style scoped>\n",
              "    .dataframe tbody tr th:only-of-type {\n",
              "        vertical-align: middle;\n",
              "    }\n",
              "\n",
              "    .dataframe tbody tr th {\n",
              "        vertical-align: top;\n",
              "    }\n",
              "\n",
              "    .dataframe thead th {\n",
              "        text-align: right;\n",
              "    }\n",
              "</style>\n",
              "<table border=\"1\" class=\"dataframe\">\n",
              "  <thead>\n",
              "    <tr style=\"text-align: right;\">\n",
              "      <th></th>\n",
              "      <th>step</th>\n",
              "      <th>amount</th>\n",
              "      <th>oldBalanceOrig</th>\n",
              "      <th>newBalanceOrig</th>\n",
              "      <th>oldBalanceDest</th>\n",
              "      <th>newBalanceDest</th>\n",
              "      <th>isFraud</th>\n",
              "      <th>errorBalanceOrig</th>\n",
              "      <th>errorBalanceDest</th>\n",
              "      <th>HourOfDay</th>\n",
              "      <th>type_CASH_OUT</th>\n",
              "      <th>type_TRANSFER</th>\n",
              "    </tr>\n",
              "  </thead>\n",
              "  <tbody>\n",
              "    <tr>\n",
              "      <th>2</th>\n",
              "      <td>1</td>\n",
              "      <td>181.00</td>\n",
              "      <td>181.0</td>\n",
              "      <td>0.0</td>\n",
              "      <td>0.0</td>\n",
              "      <td>0.00</td>\n",
              "      <td>1</td>\n",
              "      <td>0.00</td>\n",
              "      <td>181.0</td>\n",
              "      <td>1</td>\n",
              "      <td>0</td>\n",
              "      <td>1</td>\n",
              "    </tr>\n",
              "    <tr>\n",
              "      <th>3</th>\n",
              "      <td>1</td>\n",
              "      <td>181.00</td>\n",
              "      <td>181.0</td>\n",
              "      <td>0.0</td>\n",
              "      <td>21182.0</td>\n",
              "      <td>0.00</td>\n",
              "      <td>1</td>\n",
              "      <td>0.00</td>\n",
              "      <td>21363.0</td>\n",
              "      <td>1</td>\n",
              "      <td>1</td>\n",
              "      <td>0</td>\n",
              "    </tr>\n",
              "    <tr>\n",
              "      <th>15</th>\n",
              "      <td>1</td>\n",
              "      <td>229133.94</td>\n",
              "      <td>15325.0</td>\n",
              "      <td>0.0</td>\n",
              "      <td>5083.0</td>\n",
              "      <td>51513.44</td>\n",
              "      <td>0</td>\n",
              "      <td>213808.94</td>\n",
              "      <td>182703.5</td>\n",
              "      <td>1</td>\n",
              "      <td>1</td>\n",
              "      <td>0</td>\n",
              "    </tr>\n",
              "    <tr>\n",
              "      <th>19</th>\n",
              "      <td>1</td>\n",
              "      <td>215310.30</td>\n",
              "      <td>705.0</td>\n",
              "      <td>0.0</td>\n",
              "      <td>22425.0</td>\n",
              "      <td>0.00</td>\n",
              "      <td>0</td>\n",
              "      <td>214605.30</td>\n",
              "      <td>237735.3</td>\n",
              "      <td>1</td>\n",
              "      <td>0</td>\n",
              "      <td>1</td>\n",
              "    </tr>\n",
              "    <tr>\n",
              "      <th>24</th>\n",
              "      <td>1</td>\n",
              "      <td>311685.89</td>\n",
              "      <td>10835.0</td>\n",
              "      <td>0.0</td>\n",
              "      <td>6267.0</td>\n",
              "      <td>2719172.89</td>\n",
              "      <td>0</td>\n",
              "      <td>300850.89</td>\n",
              "      <td>-2401220.0</td>\n",
              "      <td>1</td>\n",
              "      <td>0</td>\n",
              "      <td>1</td>\n",
              "    </tr>\n",
              "  </tbody>\n",
              "</table>\n",
              "</div>"
            ],
            "text/plain": [
              "    step     amount  oldBalanceOrig  newBalanceOrig  oldBalanceDest  \\\n",
              "2      1     181.00           181.0             0.0             0.0   \n",
              "3      1     181.00           181.0             0.0         21182.0   \n",
              "15     1  229133.94         15325.0             0.0          5083.0   \n",
              "19     1  215310.30           705.0             0.0         22425.0   \n",
              "24     1  311685.89         10835.0             0.0          6267.0   \n",
              "\n",
              "    newBalanceDest  isFraud  errorBalanceOrig  errorBalanceDest  HourOfDay  \\\n",
              "2             0.00        1              0.00             181.0          1   \n",
              "3             0.00        1              0.00           21363.0          1   \n",
              "15        51513.44        0         213808.94          182703.5          1   \n",
              "19            0.00        0         214605.30          237735.3          1   \n",
              "24      2719172.89        0         300850.89        -2401220.0          1   \n",
              "\n",
              "    type_CASH_OUT  type_TRANSFER  \n",
              "2               0              1  \n",
              "3               1              0  \n",
              "15              1              0  \n",
              "19              0              1  \n",
              "24              0              1  "
            ]
          },
          "metadata": {
            "tags": []
          },
          "execution_count": 163
        }
      ]
    },
    {
      "cell_type": "markdown",
      "metadata": {
        "id": "FWelm0mnhH74",
        "colab_type": "text"
      },
      "source": [
        "## Padronizando os dados\n",
        "\n",
        "A maioria dos algoritmos de _machine learning_ possuem uma melhor performance quando os dados estão padronizados/normalizados, isto é, quando todos os valores variam entre 0 e 1.\n",
        "\n",
        "Os dados que usaremos, serão dividios em duas categorias: treino e teste.\n",
        "Os dados que são dividios em treino, contém uma saída ja conhecida e o modelo aprende com esses dados para comparar com outros mais pra frente. Os dados dividios em teste, são os dados usados para testar o nosso modelo preditivo.\n",
        "\n",
        "Para realizar esta divisão, usei o [train_test_split](https://scikit-learn.org/stable/modules/generated/sklearn.model_selection.train_test_split.html) do sklearn. Nele, conseguimos dividir na proporção que quiseremos. Aqui no projeto utilizei a abordagem 75/25, ou seja, 25% dos dados voltados para o teste, e 75% voltados para o treino.\n",
        "\n",
        "O *random_state*, é utilizado para incializar o gerador interno de números aleatórios que decidirá a divisão dos dados em índices de teste e treinamento. Ou seja, isso é para verificar e validar os dados ao executar o código várias vezes. Definir um valor fixo garantirá que a mesma sequência de números aleatórios seja gerada sempre que você executar o código. E a menos que haja alguma outra aleatoriedade presente no processo, os resultados produzidos serão os mesmos de sempre. Isso ajuda na verificação da saída. No projeto em questão utilizei o número 42."
      ]
    },
    {
      "cell_type": "code",
      "metadata": {
        "id": "s5WjknvliQ5I",
        "colab_type": "code",
        "colab": {}
      },
      "source": [
        "RandomState = 42\n",
        "seed(21)\n",
        "\n",
        "X = dataset.drop(\"isFraud\", 1)\n",
        "y = dataset.isFraud\n",
        "X_train, X_test, y_train, y_test = train_test_split(X, y)\n",
        "\n",
        "scaler = StandardScaler()\n",
        "scaler.fit(X_train)\n",
        "\n",
        "X_train = scaler.transform(X_train)\n",
        "X_test = scaler.transform(X_test)"
      ],
      "execution_count": 0,
      "outputs": []
    },
    {
      "cell_type": "markdown",
      "metadata": {
        "id": "SXT6MrxNljmP",
        "colab_type": "text"
      },
      "source": [
        "# Seleção do Modelo\n",
        "\n",
        "Aqui neste projeto, farei a comparação entre os seguintes modelos:\n",
        "\n",
        "* Redes neurais artificiais\n",
        "* Random forest\n",
        "* XGB Trees\n",
        "\n",
        "No final, escolherei o que teve um melhor resultado."
      ]
    },
    {
      "cell_type": "markdown",
      "metadata": {
        "id": "lxsOlJwdnhMN",
        "colab_type": "text"
      },
      "source": [
        "## Redes neurais artificiais\n",
        "\n",
        "Como nosso modelo possui >2.milhões de dados, seria interessante ver o desempenho de uma rede neural.\n",
        "\n",
        "Aqui, usarei Multi layer perceptron.\n",
        "**TODO escrever mais sobre MLP**"
      ]
    },
    {
      "cell_type": "code",
      "metadata": {
        "id": "hPohO2ywoQpz",
        "colab_type": "code",
        "outputId": "e4ef84bc-5da7-4b5d-b470-4f070b9bcbb8",
        "colab": {
          "base_uri": "https://localhost:8080/",
          "height": 36
        }
      },
      "source": [
        "start_time = time.clock()\n",
        "ncols = len(X.columns)\n",
        "hiddenLayers = (ncols, ncols, ncols)\n",
        "maxIter = 1000\n",
        "MLP = MLPClassifier(hidden_layer_sizes=hiddenLayers,max_iter=maxIter,random_state=RandomState)\n",
        "\n",
        "#treinando o modelo\n",
        "MLP.fit(X_train, y_train)\n",
        "\n",
        "#verificando como o modelo performa com datasets balanceados\n",
        "Y_pred = MLP.predict(X_test)\n",
        "mat = confusion_matrix(y_test, Y_pred)\n",
        "report = classification_report(y_test, Y_pred)\n",
        "fprMLP, recallMLP, thresholdsMLP = roc_curve(y_test, Y_pred)\n",
        "aucMLP = auc(fprMLP, recallMLP)\n",
        "\n",
        "resultsMLP = {\"Classification Report\":report,\"Area Under Curve\":aucMLP}\n",
        "print('Runtime: '+'%s seconds'% (time.clock() - start_time))"
      ],
      "execution_count": 0,
      "outputs": [
        {
          "output_type": "stream",
          "text": [
            "Runtime: 142.41344300000037 seconds\n"
          ],
          "name": "stdout"
        }
      ]
    },
    {
      "cell_type": "code",
      "metadata": {
        "id": "DgVvPquYu4NR",
        "colab_type": "code",
        "outputId": "5ef15ff2-27c3-4571-8b5c-78809216057c",
        "colab": {
          "base_uri": "https://localhost:8080/",
          "height": 298
        }
      },
      "source": [
        "sns.heatmap(mat.T, square=True, annot=True, fmt='d', cbar=False)\n",
        "plt.xlabel('true label')\n",
        "plt.ylabel('predicted label')"
      ],
      "execution_count": 0,
      "outputs": [
        {
          "output_type": "execute_result",
          "data": {
            "text/plain": [
              "Text(91.68, 0.5, 'predicted label')"
            ]
          },
          "metadata": {
            "tags": []
          },
          "execution_count": 166
        },
        {
          "output_type": "display_data",
          "data": {
            "image/png": "[encoded data removed]",
            "text/plain": [
              "<Figure size 432x288 with 1 Axes>"
            ]
          },
          "metadata": {
            "tags": [],
            "needs_background": "light"
          }
        }
      ]
    },
    {
      "cell_type": "code",
      "metadata": {
        "id": "NmpCDqP9vyuG",
        "colab_type": "code",
        "outputId": "a742b91c-9106-4c84-ba0a-4f6686638c28",
        "colab": {
          "base_uri": "https://localhost:8080/",
          "height": 249
        }
      },
      "source": [
        "for measure in resultsMLP:\n",
        "    print(measure,\": \\n\",resultsMLP[measure])"
      ],
      "execution_count": 0,
      "outputs": [
        {
          "output_type": "stream",
          "text": [
            "Classification Report : \n",
            "               precision    recall  f1-score   support\n",
            "\n",
            "           0       1.00      1.00      1.00    690570\n",
            "           1       0.99      0.76      0.86      2033\n",
            "\n",
            "    accuracy                           1.00    692603\n",
            "   macro avg       0.99      0.88      0.93    692603\n",
            "weighted avg       1.00      1.00      1.00    692603\n",
            "\n",
            "Area Under Curve : \n",
            " 0.8809503357225072\n"
          ],
          "name": "stdout"
        }
      ]
    },
    {
      "cell_type": "code",
      "metadata": {
        "id": "QRZiF59xCKOw",
        "colab_type": "code",
        "outputId": "82951296-6e31-48e4-81b1-1cf8076f4ee6",
        "colab": {
          "base_uri": "https://localhost:8080/",
          "height": 36
        }
      },
      "source": [
        "acc = round(MLP.score(X_test, y_test) * 100, 2)\n",
        "print(f\"Acurácia do modelo: {acc}\")"
      ],
      "execution_count": 0,
      "outputs": [
        {
          "output_type": "stream",
          "text": [
            "Acurácia do modelo: 99.93\n"
          ],
          "name": "stdout"
        }
      ]
    },
    {
      "cell_type": "markdown",
      "metadata": {
        "id": "8b4H1epkA981",
        "colab_type": "text"
      },
      "source": [
        "Utilizando o modelo acima, percebemos que, apesar de ter dado um ótimo resultado, as redes neurais possuem uma perda com dados desbalanceados. Quando há um dataset desbalanceado, as redes neurais tendem a ficar enviesados pela classe majoritária. No nosso caso, essa classe é a de transações genuínas."
      ]
    },
    {
      "cell_type": "code",
      "metadata": {
        "id": "SCJchhvn87jj",
        "colab_type": "code",
        "outputId": "f9f5f24f-b8d9-4557-8397-fb42a872bcb1",
        "colab": {
          "base_uri": "https://localhost:8080/",
          "height": 295
        }
      },
      "source": [
        "plt.title('Receiver Operating Characteristic')\n",
        "plt.plot(fprMLP, recallMLP, 'b', label = 'AUC = %0.2f' % aucMLP)\n",
        "plt.legend(loc = 'lower right')\n",
        "plt.plot([0, 1], [0, 1],'r--')\n",
        "plt.xlim([0, 1])\n",
        "plt.ylim([0, 1])\n",
        "plt.ylabel('True Positive Rate')\n",
        "plt.xlabel('False Positive Rate')\n",
        "plt.show()"
      ],
      "execution_count": 0,
      "outputs": [
        {
          "output_type": "display_data",
          "data": {
            "image/png": "[encoded data removed]",
            "text/plain": [
              "<Figure size 432x288 with 1 Axes>"
            ]
          },
          "metadata": {
            "tags": [],
            "needs_background": "light"
          }
        }
      ]
    },
    {
      "cell_type": "markdown",
      "metadata": {
        "id": "MgAaARa6mfwe",
        "colab_type": "text"
      },
      "source": [
        "## Random forest\n",
        "\n",
        "Assim como relatado anteriormente, neste projeto usaremos *Random Forest* para realizar a classificação dos dados. Nosso objetivo final é verificar se uma transação é fraudulenta ou não.\n",
        "\n",
        "Antes de tudo é necessário entendermos o que é uma *Random Forest*.\n",
        "\n",
        "Uma *Random Forest* nada mais é do que um algoritmo de aprendizagem supervisionada.\n",
        "\n",
        "### Aprendizagem supervisionada \n",
        "é um conjunto de dados rotulados que sabe-se qual será a saída correta de acordo com os dados de entrada.\n",
        "Aprendizagem supervisionada é classificada em dois tipos: regressão e classificação. O que estamos usando no projeto é de classificação, ou seja, estamos tentando prever os resultados de uma saída.\n",
        "\n",
        "Voltando ao *Random Forest*, realizando a traudução literal, percebe-se que é uma floresta aleatória. Essa \"floresta\" que ele cria é uma combinação (conhecido como  *ensemble*) de árvores de decisão\n",
        "\n",
        "### Certo, mas o que seria uma árvore de decisão?  \n",
        "\n",
        "\n",
        "Teoricamente falando, árvore de decisão é um modelo estatístico baseado em um treino supervisionado para classificação e previsão de dados. Resumindo: é um conjunto de treinamento com entradas e saídas. \n",
        "\n",
        "Na computação, a árvore é uma estrutura de elementos que armazena algum tipo de informação, estes são chamados de **nós**. Porém, toda árvore possui um nó que deu origem a todos os outros nós, a este damos o nome de **nó-raiz**. Os filhos deste nó, são chamados de  **nó-filho**, que por sua vez também pode ter o seu filho. Quando um nó não possui filho, ele é chamado de **nó folha**. Em uma árvore de decisão, uma decisão só é tomada desde que seja feito um caminho entre o nó raiz e o nó folha.\n",
        "\n",
        "\n",
        "![Exemplo de uma Árvore de Decisão](https://blog.frankfurt-school.de/wp-content/uploads/2018/10/3-460x272.png)\n",
        "\n",
        "### Random Forest\n",
        "\n",
        "Agora, imagine várias árvores de decisão juntas. Estas formam a famosa *Random Forest*.\n",
        "No caso da *Randon Forest*, o algoritmo cria várias árvores de decisões, cada uma com características aleatórias. O resultado de classificação de todas elas é combinado e assim gera-se o resultado esperado (ou não).\n",
        "\n",
        "Para evitar que o modelo fique enviesado e não apresente o resultado esperado, é preciso ter muito cuidado na Preparação dos Dados. Além disso, é de extrema imporância entender todas as *features* da *Random Forest* e qual o seu real valor.\n",
        "\n",
        "Uma outra qualidade do modelo, e que o *scikit learn* oferece, é que podemos realizar uma análise de todas as *features* que estamos usando e medi a importância delas. Tudo já implementado. O cálculo é feito para cada característica logo após o treinamento,e também ele normaliza os resultados. Através dessa insepção, conseguimos ter uma noção de qual característica usar e qual não usar."
      ]
    },
    {
      "cell_type": "code",
      "metadata": {
        "id": "PBJzFJf-oas6",
        "colab_type": "code",
        "outputId": "0aeff885-acde-4405-93f4-29d55e79fb0f",
        "colab": {
          "base_uri": "https://localhost:8080/",
          "height": 36
        }
      },
      "source": [
        "start_time = time.clock()\n",
        "randomForest = RandomForestClassifier(n_estimators=15, class_weight=\"balanced\", n_jobs=-1, random_state=RandomState)\n",
        "randomForest.fit(X_train, y_train)\n",
        "rfPred = randomForest.predict(X_test)\n",
        "\n",
        "# avaliando o modelo\n",
        "matRF = confusion_matrix(y_test, rfPred)\n",
        "reportRF = classification_report(y_test,rfPred)\n",
        "fprRF, recallRF, thresholdsRF = roc_curve(y_test, rfPred)\n",
        "aucRF = auc(fprRF, recallRF)\n",
        "\n",
        "resultsRF = {\"Confusion Matrix\":matRF,\"Classification Report\":reportRF,\"Area Under Curve\":aucRF}\n",
        "print('Runtime: '+'%s seconds'% (time.clock() - start_time))"
      ],
      "execution_count": 0,
      "outputs": [
        {
          "output_type": "stream",
          "text": [
            "Runtime: 105.6910600000001 seconds\n"
          ],
          "name": "stdout"
        }
      ]
    },
    {
      "cell_type": "code",
      "metadata": {
        "id": "oSgn2uSyr3TD",
        "colab_type": "code",
        "outputId": "a84ba6a2-eeb3-493b-9cea-5ce949470e12",
        "colab": {
          "base_uri": "https://localhost:8080/",
          "height": 298
        }
      },
      "source": [
        "sns.heatmap(matRF.T, square=True, annot=True, fmt='d', cbar=False)\n",
        "plt.xlabel('true label')\n",
        "plt.ylabel('predicted label')"
      ],
      "execution_count": 0,
      "outputs": [
        {
          "output_type": "execute_result",
          "data": {
            "text/plain": [
              "Text(91.68, 0.5, 'predicted label')"
            ]
          },
          "metadata": {
            "tags": []
          },
          "execution_count": 171
        },
        {
          "output_type": "display_data",
          "data": {
            "image/png": "[encoded data removed]",
            "text/plain": [
              "<Figure size 432x288 with 1 Axes>"
            ]
          },
          "metadata": {
            "tags": [],
            "needs_background": "light"
          }
        }
      ]
    },
    {
      "cell_type": "code",
      "metadata": {
        "id": "QVZTe2kLpoiO",
        "colab_type": "code",
        "outputId": "1e202d84-b9d9-4887-cbd6-20118a6aba6f",
        "colab": {
          "base_uri": "https://localhost:8080/",
          "height": 308
        }
      },
      "source": [
        "for measure in resultsRF:\n",
        "    print(measure,\": \\n\",resultsRF[measure])"
      ],
      "execution_count": 0,
      "outputs": [
        {
          "output_type": "stream",
          "text": [
            "Confusion Matrix : \n",
            " [[690569      1]\n",
            " [    10   2023]]\n",
            "Classification Report : \n",
            "               precision    recall  f1-score   support\n",
            "\n",
            "           0       1.00      1.00      1.00    690570\n",
            "           1       1.00      1.00      1.00      2033\n",
            "\n",
            "    accuracy                           1.00    692603\n",
            "   macro avg       1.00      1.00      1.00    692603\n",
            "weighted avg       1.00      1.00      1.00    692603\n",
            "\n",
            "Area Under Curve : \n",
            " 0.9975398563834587\n"
          ],
          "name": "stdout"
        }
      ]
    },
    {
      "cell_type": "code",
      "metadata": {
        "id": "TKt21PtDp7WH",
        "colab_type": "code",
        "outputId": "b087c404-0f34-4a01-d00b-02d3efab25c1",
        "colab": {
          "base_uri": "https://localhost:8080/",
          "height": 36
        }
      },
      "source": [
        "acc = round(randomForest.score(X_test, y_test) * 100, 2)\n",
        "print(f\"Acurácia do modelo: {acc}\")"
      ],
      "execution_count": 0,
      "outputs": [
        {
          "output_type": "stream",
          "text": [
            "Acurácia do modelo: 100.0\n"
          ],
          "name": "stdout"
        }
      ]
    },
    {
      "cell_type": "code",
      "metadata": {
        "id": "C4sXzoLy7px2",
        "colab_type": "code",
        "outputId": "8b8d9a42-ddc5-43a4-fcb4-36a58db11029",
        "colab": {
          "base_uri": "https://localhost:8080/",
          "height": 295
        }
      },
      "source": [
        "plt.title('Receiver Operating Characteristic')\n",
        "plt.plot(fprRF, recallRF, 'b', label = 'AUC = %0.2f' % aucRF)\n",
        "plt.legend(loc = 'lower right')\n",
        "plt.plot([0, 1], [0, 1],'r--')\n",
        "plt.xlim([0, 1])\n",
        "plt.ylim([0, 1])\n",
        "plt.ylabel('True Positive Rate')\n",
        "plt.xlabel('False Positive Rate')\n",
        "plt.show()"
      ],
      "execution_count": 0,
      "outputs": [
        {
          "output_type": "display_data",
          "data": {
            "image/png": "[encoded data removed]",
            "text/plain": [
              "<Figure size 432x288 with 1 Axes>"
            ]
          },
          "metadata": {
            "tags": [],
            "needs_background": "light"
          }
        }
      ]
    },
    {
      "cell_type": "markdown",
      "metadata": {
        "id": "Eu15CXjcDSN0",
        "colab_type": "text"
      },
      "source": [
        "A performance utilizando RandomForest foi espetacular!"
      ]
    },
    {
      "cell_type": "markdown",
      "metadata": {
        "id": "JGMXgZ_SDad_",
        "colab_type": "text"
      },
      "source": [
        "## eXtreme Gradient Boosting Trees (XGB trees)\n",
        "\n",
        "Este algortimo já é conhecido por lidar com datasets desbalanceados. Similar com Random Forest, o algoritmo gera várias árvores de decisão e agrupa seus resultados."
      ]
    },
    {
      "cell_type": "code",
      "metadata": {
        "id": "h97wpTB4Htta",
        "colab_type": "code",
        "outputId": "c32ce2e9-057d-48f1-cd7e-e5cfec38747e",
        "colab": {
          "base_uri": "https://localhost:8080/",
          "height": 36
        }
      },
      "source": [
        "start_time = time.clock()\n",
        "weights = (y == 0).sum() / (1.0 * (y == 1).sum()) # para datasets desbalanceados\n",
        "XGBTrees = XGBClassifier(max_depth=3, scale_pos_weight=weights, n_jobs=4)\n",
        "XGBTrees.fit(X_train, y_train)\n",
        "XGBPred = XGBTrees.predict(X_test)\n",
        "\n",
        "# avaliando modelo\n",
        "matXGB = confusion_matrix(y_test, XGBPred)\n",
        "reportXGB = classification_report(y_test, XGBPred)\n",
        "fprXGB, recallXGB, thresholdsXGB = roc_curve(y_test, XGBPred)\n",
        "aucXGB = auc(fprXGB, recallXGB)\n",
        "resultsXGB = {\"Confusion Matrix\":matXGB,\"Classification Report\":reportXGB,\"Area Under Curve\":aucXGB}\n",
        "\n",
        "print('Runtime: '+'%s seconds'% (time.clock() - start_time))"
      ],
      "execution_count": 0,
      "outputs": [
        {
          "output_type": "stream",
          "text": [
            "Runtime: 314.9097380000003 seconds\n"
          ],
          "name": "stdout"
        }
      ]
    },
    {
      "cell_type": "code",
      "metadata": {
        "id": "6HsvqAxeJ7gv",
        "colab_type": "code",
        "outputId": "fad13038-8f33-41af-e8f8-d8f5220e0220",
        "colab": {
          "base_uri": "https://localhost:8080/",
          "height": 298
        }
      },
      "source": [
        "# lento pa porra\n",
        "sns.heatmap(matXGB.T, square=True, annot=True, fmt='d', cbar=False)\n",
        "plt.xlabel('true label')\n",
        "plt.ylabel('predicted label')"
      ],
      "execution_count": 0,
      "outputs": [
        {
          "output_type": "execute_result",
          "data": {
            "text/plain": [
              "Text(91.68, 0.5, 'predicted label')"
            ]
          },
          "metadata": {
            "tags": []
          },
          "execution_count": 176
        },
        {
          "output_type": "display_data",
          "data": {
            "image/png": "[encoded data removed]",
            "text/plain": [
              "<Figure size 432x288 with 1 Axes>"
            ]
          },
          "metadata": {
            "tags": [],
            "needs_background": "light"
          }
        }
      ]
    },
    {
      "cell_type": "code",
      "metadata": {
        "id": "vo6RyyLuLE2A",
        "colab_type": "code",
        "outputId": "989d94e1-8704-4678-871a-899cd5625b2c",
        "colab": {
          "base_uri": "https://localhost:8080/",
          "height": 36
        }
      },
      "source": [
        "acc = round(XGBTrees.score(X_test, y_test) * 100, 2)\n",
        "print(f\"Acurácia do modelo: {acc}\")"
      ],
      "execution_count": 0,
      "outputs": [
        {
          "output_type": "stream",
          "text": [
            "Acurácia do modelo: 99.96\n"
          ],
          "name": "stdout"
        }
      ]
    },
    {
      "cell_type": "code",
      "metadata": {
        "id": "ljLDcvsmLesh",
        "colab_type": "code",
        "outputId": "ab5d6448-eab5-4b3e-8361-b05fb4fd463c",
        "colab": {
          "base_uri": "https://localhost:8080/",
          "height": 308
        }
      },
      "source": [
        "for measure in resultsRF:\n",
        "    print(measure,\": \\n\",resultsXGB[measure])"
      ],
      "execution_count": 0,
      "outputs": [
        {
          "output_type": "stream",
          "text": [
            "Confusion Matrix : \n",
            " [[690319    251]\n",
            " [     9   2024]]\n",
            "Classification Report : \n",
            "               precision    recall  f1-score   support\n",
            "\n",
            "           0       1.00      1.00      1.00    690570\n",
            "           1       0.89      1.00      0.94      2033\n",
            "\n",
            "    accuracy                           1.00    692603\n",
            "   macro avg       0.94      1.00      0.97    692603\n",
            "weighted avg       1.00      1.00      1.00    692603\n",
            "\n",
            "Area Under Curve : \n",
            " 0.9976047884507762\n"
          ],
          "name": "stdout"
        }
      ]
    },
    {
      "cell_type": "code",
      "metadata": {
        "id": "PmzzeeapLnFv",
        "colab_type": "code",
        "outputId": "9b990fb8-a40c-4ddc-fc17-4e3e0c0c5531",
        "colab": {
          "base_uri": "https://localhost:8080/",
          "height": 295
        }
      },
      "source": [
        "plt.title('Receiver Operating Characteristic')\n",
        "plt.plot(fprXGB, recallXGB, 'b', label = 'AUC = %0.2f' % aucXGB)\n",
        "plt.legend(loc = 'lower right')\n",
        "plt.plot([0, 1], [0, 1],'r--')\n",
        "plt.xlim([0, 1])\n",
        "plt.ylim([0, 1])\n",
        "plt.ylabel('True Positive Rate')\n",
        "plt.xlabel('False Positive Rate')\n",
        "plt.show()"
      ],
      "execution_count": 0,
      "outputs": [
        {
          "output_type": "display_data",
          "data": {
            "image/png": "[encoded data removed]",
            "text/plain": [
              "<Figure size 432x288 with 1 Axes>"
            ]
          },
          "metadata": {
            "tags": [],
            "needs_background": "light"
          }
        }
      ]
    },
    {
      "cell_type": "markdown",
      "metadata": {
        "id": "M8bOyfLaSJQu",
        "colab_type": "text"
      },
      "source": [
        "# Comparando os modelos\n",
        "\n",
        "Olhando os resultados acima, percebemos facilmente que o modelo de _Random Forest_ e _XGB_ foram os melhores. Porém, entre os dois, qual é o melhor?\n",
        "\n",
        "Nesta seção vou explorar um pouco alguns pontos que considerei relevante para a escolha final do melhor modelo."
      ]
    },
    {
      "cell_type": "code",
      "metadata": {
        "id": "HCSOdmNFMJfT",
        "colab_type": "code",
        "outputId": "a06bdfff-81a9-4f8c-a7a9-deb39a810aea",
        "colab": {
          "base_uri": "https://localhost:8080/",
          "height": 94
        }
      },
      "source": [
        "print(\"Número de transções genuínas marcadas como fraudulentas pela Random Forest: \\n\", matRF[0,1])\n",
        "print(\"Número de transções genuínas marcadas como fraudulentas pelas XGB trees: \\n\", matXGB[0,1])"
      ],
      "execution_count": 0,
      "outputs": [
        {
          "output_type": "stream",
          "text": [
            "Número de transções genuínas marcadas como fraudulentas pela Random Forest: \n",
            " 1\n",
            "Número de transções genuínas marcadas como fraudulentas pelas XGB trees: \n",
            " 251\n"
          ],
          "name": "stdout"
        }
      ]
    },
    {
      "cell_type": "code",
      "metadata": {
        "id": "RAoll5k2TQCf",
        "colab_type": "code",
        "outputId": "0cca7c52-9b3e-4f43-8026-ab6339a53cb6",
        "colab": {
          "base_uri": "https://localhost:8080/",
          "height": 94
        }
      },
      "source": [
        "print(\"Número de transções fraudulentas marcadas como genuínas pela Random Forest: \\n\", matRF[1,0])\n",
        "print(\"Número de transções fraudulentas marcadas como genuínas pelas XGB trees: \\n\", matXGB[1,0])"
      ],
      "execution_count": 0,
      "outputs": [
        {
          "output_type": "stream",
          "text": [
            "Número de transções fraudulentas marcadas como genuínas pela Random Forest: \n",
            " 10\n",
            "Número de transções fraudulentas marcadas como genuínas pelas XGB trees: \n",
            " 9\n"
          ],
          "name": "stdout"
        }
      ]
    },
    {
      "cell_type": "markdown",
      "metadata": {
        "id": "tRj_Z3xsU_zf",
        "colab_type": "text"
      },
      "source": [
        "Olhando a confusion matrix dos dois modelos, percebemos que o melhor modelo é aquele que possui um menor custo.\n",
        "Ao analisarmos os dados, o modelo de _Random Forest_ marcou apenas 1 transação genuína como fraude, enquanto a _XGBTree_ marcou 251. Essas marcações erradas, com toda certeza oferecem um custo maior ao modelo.\n",
        "Outro ponto a ser observado (pesquisar mais depois), é o tempo em que o modelo foi gerado. Enquanto _Random Forest_ possui uma média de 100s, a _XGBTree_ roda em média em 300s.\n",
        "\n"
      ]
    },
    {
      "cell_type": "code",
      "metadata": {
        "id": "IS0O77E-WPpI",
        "colab_type": "code",
        "outputId": "32b44a43-7a3e-4ca5-8382-9b9f1b13fae3",
        "colab": {
          "base_uri": "https://localhost:8080/",
          "height": 482
        }
      },
      "source": [
        "print(\"Comparando o Classification Report dos dois modelos: \\n\")\n",
        "print(f\"Classification report da Random Forest: \\n {reportRF}\")\n",
        "print(f\"Classification report da XGBTree: \\n {reportXGB}\")\n",
        "print(\"\\n OBS: acima, 0 representa transações genuínas e 1 transações fraudulentas\")"
      ],
      "execution_count": 0,
      "outputs": [
        {
          "output_type": "stream",
          "text": [
            "Comparando o Classification Report dos dois modelos: \n",
            "\n",
            "Classification report da Random Forest: \n",
            "               precision    recall  f1-score   support\n",
            "\n",
            "           0       1.00      1.00      1.00    690570\n",
            "           1       1.00      1.00      1.00      2033\n",
            "\n",
            "    accuracy                           1.00    692603\n",
            "   macro avg       1.00      1.00      1.00    692603\n",
            "weighted avg       1.00      1.00      1.00    692603\n",
            "\n",
            "Classification report da XGBTree: \n",
            "               precision    recall  f1-score   support\n",
            "\n",
            "           0       1.00      1.00      1.00    690570\n",
            "           1       0.89      1.00      0.94      2033\n",
            "\n",
            "    accuracy                           1.00    692603\n",
            "   macro avg       0.94      1.00      0.97    692603\n",
            "weighted avg       1.00      1.00      1.00    692603\n",
            "\n",
            "\n",
            " OBS: acima, 0 representa transações genuínas e 1 transações fraudulentas\n"
          ],
          "name": "stdout"
        }
      ]
    },
    {
      "cell_type": "markdown",
      "metadata": {
        "id": "wNZNUsXYOZui",
        "colab_type": "text"
      },
      "source": [
        "Mesmo que as pontuações de _recall_ dos dois modelos são iguais, o modelo de _Random Forest_ teve um desempenho bem melhor no campo _precision_ das transações fraudulentas.\n",
        "Olhando estes dados em conjunto com a matriz de confusão, chegamos a conclusão que _Random Forest_ estimou menos casos de falsos positivos, ou seja, transações genuínas que foram marcadas como fraude. Também notamos uma difereça no f1-score.\n",
        "(**TODO: falar mais sobre cada um dos itens do report**)\n",
        "De acordo com os dados do report, notamos que _Random Forest_ teve uma desempenho melhor.\n",
        "\n",
        "**TODO falar mais sobre AUC**\n",
        "\n",
        "Segue uma comparação entre AUC dos dois modelos:"
      ]
    },
    {
      "cell_type": "code",
      "metadata": {
        "id": "ucJecnXlYOW6",
        "colab_type": "code",
        "colab": {}
      },
      "source": [
        "print(f\"\\nAUC da Random Forest: {aucRF}\")\n",
        "print(f\"\\nAUC da XGBTree: {aucXGB}\")"
      ],
      "execution_count": 0,
      "outputs": []
    },
    {
      "cell_type": "code",
      "metadata": {
        "id": "VOK59wuROnve",
        "colab_type": "code",
        "outputId": "bfb45dc5-c6bb-40b9-a75a-7b3928841c41",
        "colab": {
          "base_uri": "https://localhost:8080/",
          "height": 445
        }
      },
      "source": [
        "x = np.arange(ncols)\n",
        "\n",
        "importances = randomForest.feature_importances_\n",
        "\n",
        "sort_ind = np.argsort(importances)[::-1]\n",
        "plt.figure(figsize=(18,7))\n",
        "plt.bar(x, importances[sort_ind])\n",
        "plt.xticks(x,tuple(X.columns.values[sort_ind]))\n",
        "plt.title(\"Melhores features: do melhor para o pior\")\n",
        "plt.show()\n",
        "\n"
      ],
      "execution_count": 0,
      "outputs": [
        {
          "output_type": "display_data",
          "data": {
            "image/png": "[encoded data removed]",
            "text/plain": [
              "<Figure size 1296x504 with 1 Axes>"
            ]
          },
          "metadata": {
            "tags": [],
            "needs_background": "light"
          }
        }
      ]
    }
  ]
}